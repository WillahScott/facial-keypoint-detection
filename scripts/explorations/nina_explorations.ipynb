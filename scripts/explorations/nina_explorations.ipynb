{
 "cells": [
  {
   "cell_type": "markdown",
   "metadata": {},
   "source": [
    "# Nina's first experiments with the facial keypoints detection"
   ]
  },
  {
   "cell_type": "markdown",
   "metadata": {},
   "source": [
    "# Example of use of submission tools  \n",
    "\n",
    "**The following is a brief example of how to import and use `submit.py` (or any script within the tools folder).**  \n",
    "\n",
    "For this we will recreate (partially) the baseline submission, but with much cleaner code.  \n",
    "\n",
    "### Note - relative import\n",
    "If we try to use a relative import path in our notebook\n",
    "\n",
    "```python\n",
    "from ..tools import submit\n",
    "```\n",
    "we get a \"relative import error\". This is mainly due to how imports work in iPython notebooks. Easiest way around it is to temporarily add the path to the `scripts/` subfolder to our `python path` (the set of locations in which python will look to import packages). See below:\n"
   ]
  },
  {
   "cell_type": "code",
   "execution_count": 1,
   "metadata": {
    "collapsed": false
   },
   "outputs": [],
   "source": [
    "# For relative imports\n",
    "import sys\n",
    "sys.path.append('/Users/ninakuklisova/facial-keypoint-detection/scripts')\n",
    "\n",
    "# Import submit module from our tools subfolder\n",
    "from tools import submit, getdata"
   ]
  },
  {
   "cell_type": "markdown",
   "metadata": {},
   "source": [
    "Now we are good to use any function in our `submit.py` module. Since we commented our module appropriately, we can even pull up the \"documentation\":"
   ]
  },
  {
   "cell_type": "code",
   "execution_count": 2,
   "metadata": {
    "collapsed": false
   },
   "outputs": [],
   "source": [
    "submit.create_submission?"
   ]
  },
  {
   "cell_type": "markdown",
   "metadata": {},
   "source": [
    "## Baseline submission\n",
    "\n",
    "Now that we have our package loaded let's recreate the baseline model for the first feature.  \n",
    "\n",
    "But first let's do our normal imports"
   ]
  },
  {
   "cell_type": "code",
   "execution_count": 3,
   "metadata": {
    "collapsed": false
   },
   "outputs": [],
   "source": [
    "import numpy as np\n",
    "import pandas as pd\n",
    "\n",
    "from sklearn.neighbors import KNeighborsRegressor"
   ]
  },
  {
   "cell_type": "markdown",
   "metadata": {},
   "source": [
    "Let us load the data using `tools.getdata` module:  "
   ]
  },
  {
   "cell_type": "code",
   "execution_count": 6,
   "metadata": {
    "collapsed": false
   },
   "outputs": [
    {
     "name": "stdout",
     "output_type": "stream",
     "text": [
      "Number of features: 30\n",
      "Training dataset size:  (2140,)\n",
      "Test dataset size:  (1783,)\n"
     ]
    }
   ],
   "source": [
    "# Load data (no dev)\n",
    "_loaded = getdata.load_data(0, test=True, nonas=True)\n",
    "\n",
    "FEATURES = _loaded['features']\n",
    "print 'Number of features:', len(FEATURES)\n",
    "\n",
    "train_data = _loaded['training']['data']\n",
    "train_labels = _loaded['training']['labels']\n",
    "print 'Training dataset size: ', train_data.shape\n",
    "\n",
    "test_data = _loaded['test']['data']\n",
    "print 'Test dataset size: ', test_data.shape"
   ]
  },
  {
   "cell_type": "markdown",
   "metadata": {},
   "source": [
    "Create and train a KNN model on the first feature"
   ]
  },
  {
   "cell_type": "code",
   "execution_count": 5,
   "metadata": {
    "collapsed": false
   },
   "outputs": [],
   "source": [
    "# KNN model\n",
    "knn = KNeighborsRegressor()\n",
    "knn.fit(train_data.tolist(), train_labels[:,0])\n",
    "\n",
    "models =  [ (FEATURES[0], knn) ]"
   ]
  },
  {
   "cell_type": "markdown",
   "metadata": {},
   "source": [
    "And now we can enjoy the `tools.submit` module!"
   ]
  },
  {
   "cell_type": "code",
   "execution_count": 6,
   "metadata": {
    "collapsed": false,
    "scrolled": true
   },
   "outputs": [
    {
     "name": "stdout",
     "output_type": "stream",
     "text": [
      "Predicting \"left_eye_center_x\"... done! (136.8s)\n",
      "\n",
      "... Created the csv file: ../../data/submissions/tools_example_submission.csv\n"
     ]
    }
   ],
   "source": [
    "submit.create_generate(test_data, models, 'tools_example', verbose=True)"
   ]
  },
  {
   "cell_type": "code",
   "execution_count": 7,
   "metadata": {
    "collapsed": false
   },
   "outputs": [
    {
     "name": "stdout",
     "output_type": "stream",
     "text": [
      "IdLookupTable.csv                       full_knregressor_submission_nonull.csv\r\n",
      "README.md                               tools_example_submission.csv\r\n"
     ]
    }
   ],
   "source": [
    "%ls ../../data/submissions/"
   ]
  },
  {
   "cell_type": "markdown",
   "metadata": {},
   "source": [
    "This function is just a wrapper, we could've used the functions `submit.create_submission` and then `submit.generate_csv`:\n",
    "\n",
    "```python\n",
    "# Create predictions\n",
    "kn_predictions = submit.create_submission(test_data, models, 'tools_example')\n",
    "\n",
    "# Generate submition csv from predictions\n",
    "submit.generate_csv(kn_predictions, 'tools_example')\n",
    "```"
   ]
  },
  {
   "cell_type": "code",
   "execution_count": null,
   "metadata": {
    "collapsed": true
   },
   "outputs": [],
   "source": []
  }
 ],
 "metadata": {
  "kernelspec": {
   "display_name": "Python 2",
   "language": "python",
   "name": "python2"
  },
  "language_info": {
   "codemirror_mode": {
    "name": "ipython",
    "version": 2
   },
   "file_extension": ".py",
   "mimetype": "text/x-python",
   "name": "python",
   "nbconvert_exporter": "python",
   "pygments_lexer": "ipython2",
   "version": "2.7.11"
  }
 },
 "nbformat": 4,
 "nbformat_minor": 0
}
