{
 "cells": [
  {
   "cell_type": "markdown",
   "metadata": {},
   "source": [
    "# Example of use of submission tools  \n",
    "\n",
    "**The following is a brief example of how to import and use `submit.py` (or any script within the tools folder).**  \n",
    "\n",
    "For this we will recreate (partially) the baseline submission, but with much cleaner code.  \n",
    "\n",
    "### Note - relative import\n",
    "If we try to use a relative import path in our notebook\n",
    "\n",
    "```python\n",
    "from ..tools import submit\n",
    "```\n",
    "we get a \"relative import error\". This is mainly due to how imports work in iPython notebooks. Easiest way around it is to temporarily add the path to the `scripts/` subfolder to our `python path` (the set of locations in which python will look to import packages). See below:\n"
   ]
  },
  {
   "cell_type": "code",
   "execution_count": 1,
   "metadata": {
    "collapsed": false
   },
   "outputs": [],
   "source": [
    "# For relative imports\n",
    "import sys\n",
    "sys.path.append('/Users/will/Github/facial-keypoint-detection/scripts')\n",
    "\n",
    "# Import submit module from our tools subfolder\n",
    "from tools import submit"
   ]
  },
  {
   "cell_type": "markdown",
   "metadata": {},
   "source": [
    "Now we are good to use any function in our `submit.py` module. Since we commented our module appropriately, we can even pull up the \"documentation\":"
   ]
  },
  {
   "cell_type": "code",
   "execution_count": 2,
   "metadata": {
    "collapsed": false
   },
   "outputs": [],
   "source": [
    "submit.create_submission?"
   ]
  },
  {
   "cell_type": "markdown",
   "metadata": {},
   "source": [
    "## Baseline submission\n",
    "\n",
    "Now that we have our package loaded let's recreate the baseline model for the first feature.  \n",
    "\n",
    "But first let's do our normal imports"
   ]
  },
  {
   "cell_type": "code",
   "execution_count": 3,
   "metadata": {
    "collapsed": true
   },
   "outputs": [],
   "source": [
    "import numpy as np\n",
    "import pandas as pd\n",
    "\n",
    "from sklearn.neighbors import KNeighborsRegressor"
   ]
  },
  {
   "cell_type": "code",
   "execution_count": null,
   "metadata": {
    "collapsed": true
   },
   "outputs": [],
   "source": [
    "### TODO - tools.getdata"
   ]
  },
  {
   "cell_type": "markdown",
   "metadata": {},
   "source": [
    "Now let us load the data: (**TODO - create a tool/getdata.py module**)  "
   ]
  },
  {
   "cell_type": "code",
   "execution_count": 4,
   "metadata": {
    "collapsed": false
   },
   "outputs": [],
   "source": [
    "# Load data\n",
    "full_data = pd.read_csv(\"../../data/datasets/training.csv\")\n",
    "\n",
    "# Preprocess images into unsigned 8byte integer arrays\n",
    "get_img = lambda x: np.uint8( map(int, x.split()) )\n",
    "full_data['img_processed'] = map( get_img, full_data['Image'])\n",
    "\n",
    "# fill na\n",
    "data_nonas = full_data.dropna()\n",
    "\n",
    "# TRAINING DATA\n",
    "train_data = data_nonas.iloc[:,31].values\n",
    "train_labels = np.round(data_nonas.iloc[:,:30].values)\n",
    "\n",
    "# For base submission no (dev data)\n",
    "\n",
    "# TEST DATA\n",
    "full_test = pd.read_csv(\"../../data/datasets/test.csv\")\n",
    "\n",
    "# Preprocess images into unsigned 8byte integer arrays\n",
    "full_test['img_processed'] = map( get_img, full_test['Image'])\n",
    "\n",
    "# Get training data\n",
    "test_data = full_test[['img_processed']].copy()"
   ]
  },
  {
   "cell_type": "markdown",
   "metadata": {},
   "source": [
    "Create and train a KNN model on the first feature"
   ]
  },
  {
   "cell_type": "code",
   "execution_count": 5,
   "metadata": {
    "collapsed": false
   },
   "outputs": [],
   "source": [
    "# KNN model\n",
    "knn = KNeighborsRegressor()\n",
    "knn.fit(train_data.tolist(), train_labels[:,0])\n",
    "\n",
    "models =  [ (data_nonas.columns[0], knn) ]"
   ]
  },
  {
   "cell_type": "markdown",
   "metadata": {},
   "source": [
    "And now we can enjoy the `tools.submit` module!"
   ]
  },
  {
   "cell_type": "code",
   "execution_count": 6,
   "metadata": {
    "collapsed": false,
    "scrolled": true
   },
   "outputs": [
    {
     "name": "stdout",
     "output_type": "stream",
     "text": [
      "Predicting \"left_eye_center_x\"... done! (55.5s)\n",
      "... Created the csv file: ../../data/submissions/tools_example_submission.csv\n"
     ]
    }
   ],
   "source": [
    "submit.create_generate(test_data, models, 'tools_example', verbose=True)"
   ]
  },
  {
   "cell_type": "code",
   "execution_count": 7,
   "metadata": {
    "collapsed": false
   },
   "outputs": [
    {
     "name": "stdout",
     "output_type": "stream",
     "text": [
      "IdLookupTable.csv                       full_knregressor_submission_nonull.csv\r\n",
      "README.md                               tools_example_submission.csv\r\n",
      "SampleSubmission.csv\r\n"
     ]
    }
   ],
   "source": [
    "%ls ../../data/submissions/"
   ]
  },
  {
   "cell_type": "markdown",
   "metadata": {},
   "source": [
    "This function is just a wrapper, we could've used the functions `submit.create_submission` and then `submit.generate_csv`:\n",
    "\n",
    "```python\n",
    "# Create predictions\n",
    "kn_predictions = submit.create_submission(test_data, models, 'tools_example')\n",
    "\n",
    "# Generate submition csv from predictions\n",
    "submit.generate_csv(kn_predictions, 'tools_example')\n",
    "```"
   ]
  }
 ],
 "metadata": {
  "kernelspec": {
   "display_name": "Python 2",
   "language": "python",
   "name": "python2"
  },
  "language_info": {
   "codemirror_mode": {
    "name": "ipython",
    "version": 2
   },
   "file_extension": ".py",
   "mimetype": "text/x-python",
   "name": "python",
   "nbconvert_exporter": "python",
   "pygments_lexer": "ipython2",
   "version": "2.7.11"
  }
 },
 "nbformat": 4,
 "nbformat_minor": 0
}
