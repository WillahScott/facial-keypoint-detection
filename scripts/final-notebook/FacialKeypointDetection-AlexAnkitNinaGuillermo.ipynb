{
 "cells": [
  {
   "cell_type": "markdown",
   "metadata": {},
   "source": [
    "# Facial Keypoint Detection\n",
    "\n",
    "**Explorations on facial image keypoint detection.**  \n",
    "\n",
    "This project contains the explorations on face feature detection (for the [Kaggle competition](https://www.kaggle.com/c/facial-keypoints-detection)), as part of the final project for the 207-Machine Learning course for [Berkeley's Master in Information and Data Science](https://datascience.berkeley.edu/).  \n",
    "\n",
    "The project was developed by: [Alex](https://github.com/keivahn), [Ankit](https://github.com/ankittharwani), [Nina](https://github.com/kuknina) and [Will](https://github.com/willahscott).  \n",
    "\n",
    "\n",
    "## Presentation\n",
    "We created a [Prezi adventure](https://prezi.com/an_apyqfaeaj/recognizing-key-facial-points/#) to showcase our ideas and explorations.\n",
    "\n",
    "## Contents of this notebook\n",
    "\n",
    "* [GitHub Repo](#GitHub-Repo)  \n",
    "* [Preprocessing](#Preprocessing)  \n",
    "    * [Face Detection](#Face-Detection)  \n",
    "    * [Dimensionality Reduction](#Dimensionality-Reduction)  \n",
    "        * [PCA](#PCA)  \n",
    "        * [GMM](#GMM)  \n",
    "    * [Image Processing](#Image-Processing)  \n",
    "        * [Edge Detection](#Edge-Detection)  \n",
    "        * [Noise Reduction](#Noise-Reduction)  \n",
    "        * [Finding Contours](#Finding-Contours)  \n",
    "* [Models Explored](#Models-Explored)  \n",
    "    * [Baseline - KNearest Neighbors](#Baseline---KNearest-Neighbors)  \n",
    "    * [Neural Nets](#Neural-Nets)  \n",
    "        * [Convolutional Neural Network](#Convolutional-Neural-Network)\n",
    "    * [Bayes Classifiers](#Bayes-Classifiers)  \n",
    "    * [Logistic Regression](#Logistic-Regression)  \n",
    "    * [Trees](#Trees)  \n",
    "    * [Bayes Classifiers](#Bayes Classifiers)  \n",
    "    * [Bayes Classifiers](#Bayes Classifiers)  \n",
    "    * [Bayes Classifiers](#Bayes Classifiers)  \n",
    "* [Final Model](#Final-Model)  \n",
    "* [Conclusions and Remarks](#Conclusions-and-Remarks)  \n",
    "* [Appendix](#Appendix)  \n",
    "\n",
    "\n",
    "## GitHub Repo  \n",
    "\n",
    "Given that we were 4 team members and we were planning on doing a more breadth analysis, we created a [GitHub repository](https://github.com/WillahScott/facial-keypoint-detection) with a structure that would make our work **independent** but **compatible** as well a set of common `tools` that would create our explorations cleaner and more efficient.\n",
    "\n",
    "The structure we came up is as follows:  \n",
    "\n",
    "* **`scripts/`**  \n",
    "\n",
    "\t* **`tools/`** contains a set of additional tools that make the exploration and modeling cleaner.\n",
    "        * `submit.py` - functions for generating the Kaggle submission files  \n",
    "        * `getdata.py` - loading and preprocessing the datasets\n",
    "        * `save4later.py` - basic pickler for storing and retrieving (and listing the available) models, as well as preprocessed dataset\n",
    "    \n",
    "\t* **`explorations/`** contains dataset explorations, plots and initial modeling attempts  \n",
    "\n",
    "    * **`preprocessors/`** contains the preprocessing scripts\n",
    "\n",
    "\t* **`modelers/`** contains all serious modeling attempts, including the generation of their submission files\n",
    "    \n",
    "\n",
    "* **`data/`**  \n",
    "\n",
    "\t* **`datasets/`** contains the original kaggle data  \n",
    "\n",
    "\t* **`preprocessed/`** contains preprocessed datasets. For *temporal* time-consuming preprocessings   \n",
    "\n",
    "\t* **`models/`** contains the persistent storages of the models created. Each pickled model contains: name, alias, description, model-object, prediction-df, [training-time], [predicting-time]  \n",
    "\n",
    "    * **`submissions/`** contains the csv files submitted to the Kaggle competition  \n"
   ]
  },
  {
   "cell_type": "code",
   "execution_count": null,
   "metadata": {
    "collapsed": true
   },
   "outputs": [],
   "source": []
  },
  {
   "cell_type": "markdown",
   "metadata": {},
   "source": [
    "\n",
    "## Goal\n",
    "\n",
    "Bla bla\n"
   ]
  },
  {
   "cell_type": "code",
   "execution_count": null,
   "metadata": {
    "collapsed": true
   },
   "outputs": [],
   "source": []
  },
  {
   "cell_type": "markdown",
   "metadata": {},
   "source": [
    "## Preprocessing\n",
    "\n",
    "### Face Detection - Background Filtering  \n",
    "\n",
    "#### OpenCV"
   ]
  },
  {
   "cell_type": "code",
   "execution_count": null,
   "metadata": {
    "collapsed": true
   },
   "outputs": [],
   "source": [
    "import cv2"
   ]
  },
  {
   "cell_type": "markdown",
   "metadata": {},
   "source": [
    "#### Haar Classifier"
   ]
  },
  {
   "cell_type": "code",
   "execution_count": 1,
   "metadata": {
    "collapsed": true
   },
   "outputs": [],
   "source": [
    "# Haar classifier code"
   ]
  },
  {
   "cell_type": "markdown",
   "metadata": {},
   "source": [
    "### Dimensionality Reduction  "
   ]
  },
  {
   "cell_type": "code",
   "execution_count": null,
   "metadata": {
    "collapsed": true
   },
   "outputs": [],
   "source": [
    "from sklearn.decomposition import PCA\n",
    "from sklearn.mixture import GMM"
   ]
  },
  {
   "cell_type": "markdown",
   "metadata": {},
   "source": [
    "#### PCA"
   ]
  },
  {
   "cell_type": "code",
   "execution_count": null,
   "metadata": {
    "collapsed": true
   },
   "outputs": [],
   "source": []
  },
  {
   "cell_type": "markdown",
   "metadata": {},
   "source": [
    "#### GMM"
   ]
  },
  {
   "cell_type": "code",
   "execution_count": null,
   "metadata": {
    "collapsed": true
   },
   "outputs": [],
   "source": []
  },
  {
   "cell_type": "markdown",
   "metadata": {},
   "source": [
    "### Image Processing   \n",
    "\n",
    "#### Edge Detection"
   ]
  },
  {
   "cell_type": "code",
   "execution_count": null,
   "metadata": {
    "collapsed": true
   },
   "outputs": [],
   "source": []
  },
  {
   "cell_type": "markdown",
   "metadata": {},
   "source": [
    "#### Noise Reduction"
   ]
  },
  {
   "cell_type": "code",
   "execution_count": null,
   "metadata": {
    "collapsed": true
   },
   "outputs": [],
   "source": []
  },
  {
   "cell_type": "markdown",
   "metadata": {},
   "source": [
    "#### Finding Contours"
   ]
  },
  {
   "cell_type": "markdown",
   "metadata": {},
   "source": []
  },
  {
   "cell_type": "code",
   "execution_count": null,
   "metadata": {
    "collapsed": true
   },
   "outputs": [],
   "source": []
  },
  {
   "cell_type": "code",
   "execution_count": null,
   "metadata": {
    "collapsed": true
   },
   "outputs": [],
   "source": []
  },
  {
   "cell_type": "markdown",
   "metadata": {},
   "source": [
    "## Models Explored\n",
    "\n",
    "### Baseline - KNearest Neighbors"
   ]
  },
  {
   "cell_type": "code",
   "execution_count": null,
   "metadata": {
    "collapsed": true
   },
   "outputs": [],
   "source": []
  },
  {
   "cell_type": "markdown",
   "metadata": {},
   "source": [
    "### Neural Nets"
   ]
  },
  {
   "cell_type": "code",
   "execution_count": null,
   "metadata": {
    "collapsed": true
   },
   "outputs": [],
   "source": []
  },
  {
   "cell_type": "markdown",
   "metadata": {},
   "source": [
    "#### Convolutional Neural Network  \n",
    "\n",
    "Given that a great number of the latest (and best) image detection algorithms make use of Convolutional Neural Networks, we found it necessary to explore this methodology.  \n",
    "\n",
    "Following [Daniel Nourian's tutorial](http://danielnouri.org/notes/2014/12/17/using-convolutional-neural-nets-to-detect-facial-keypoints-tutorial/) we ...\n",
    "\n",
    "For this deep learning algorithm we did not use any preprocessings, since the \"deep\" nature already acts as a features engineer, and also for comparison purposes (would the CNN find better features than if we used usual computer vision tools for feature engineering?).  \n",
    "\n",
    "\n",
    "### Bayes Classifiers"
   ]
  },
  {
   "cell_type": "code",
   "execution_count": null,
   "metadata": {
    "collapsed": true
   },
   "outputs": [],
   "source": []
  },
  {
   "cell_type": "markdown",
   "metadata": {},
   "source": [
    "### Logistic Regression"
   ]
  },
  {
   "cell_type": "code",
   "execution_count": null,
   "metadata": {
    "collapsed": true
   },
   "outputs": [],
   "source": []
  },
  {
   "cell_type": "markdown",
   "metadata": {},
   "source": [
    "### Trees "
   ]
  },
  {
   "cell_type": "code",
   "execution_count": null,
   "metadata": {
    "collapsed": true
   },
   "outputs": [],
   "source": []
  },
  {
   "cell_type": "markdown",
   "metadata": {},
   "source": [
    "#### Random Forests"
   ]
  },
  {
   "cell_type": "code",
   "execution_count": null,
   "metadata": {
    "collapsed": true
   },
   "outputs": [],
   "source": []
  },
  {
   "cell_type": "markdown",
   "metadata": {},
   "source": [
    "### AdaBoost ?"
   ]
  },
  {
   "cell_type": "code",
   "execution_count": null,
   "metadata": {
    "collapsed": true
   },
   "outputs": [],
   "source": []
  },
  {
   "cell_type": "markdown",
   "metadata": {},
   "source": [
    "## Final Model"
   ]
  },
  {
   "cell_type": "code",
   "execution_count": null,
   "metadata": {
    "collapsed": true
   },
   "outputs": [],
   "source": []
  },
  {
   "cell_type": "code",
   "execution_count": null,
   "metadata": {
    "collapsed": true
   },
   "outputs": [],
   "source": []
  },
  {
   "cell_type": "markdown",
   "metadata": {},
   "source": [
    "## Conclusions and Remarks\n",
    "\n",
    "Bla bla\n",
    "\n",
    "\n",
    "## Appendix"
   ]
  },
  {
   "cell_type": "code",
   "execution_count": null,
   "metadata": {
    "collapsed": true
   },
   "outputs": [],
   "source": []
  }
 ],
 "metadata": {
  "kernelspec": {
   "display_name": "Python 2",
   "language": "python",
   "name": "python2"
  },
  "language_info": {
   "codemirror_mode": {
    "name": "ipython",
    "version": 2
   },
   "file_extension": ".py",
   "mimetype": "text/x-python",
   "name": "python",
   "nbconvert_exporter": "python",
   "pygments_lexer": "ipython2",
   "version": "2.7.11"
  }
 },
 "nbformat": 4,
 "nbformat_minor": 0
}
