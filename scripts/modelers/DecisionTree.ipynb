{
 "cells": [
  {
   "cell_type": "markdown",
   "metadata": {},
   "source": [
    "# Tree Explorations"
   ]
  },
  {
   "cell_type": "code",
   "execution_count": 18,
   "metadata": {
    "collapsed": true
   },
   "outputs": [],
   "source": [
    "# General imports\n",
    "import numpy as np\n",
    "\n",
    "# set the path\n",
    "import sys, os\n",
    "\n",
    "pathArr = os.getcwd().split(\"/\")\n",
    "scriptPath = '/'.join(map(str, pathArr[:len(pathArr)-1]))\n",
    "sys.path.append(scriptPath)\n",
    "IMAGE_SIZE = 96\n",
    "# import my tools\n",
    "from tools import save4later, submit, getdata"
   ]
  },
  {
   "cell_type": "code",
   "execution_count": 6,
   "metadata": {
    "collapsed": false
   },
   "outputs": [
    {
     "name": "stdout",
     "output_type": "stream",
     "text": [
      "\n"
     ]
    }
   ],
   "source": [
    "from sklearn import tree\n",
    "from sklearn.tree import DecisionTreeRegressor\n",
    "from sklearn.ensemble import RandomForestClassifier \n",
    "from sklearn.ensemble import AdaBoostClassifier "
   ]
  },
  {
   "cell_type": "code",
   "execution_count": 3,
   "metadata": {
    "collapsed": false
   },
   "outputs": [
    {
     "name": "stdout",
     "output_type": "stream",
     "text": [
      "Number of features: 30\n",
      "Training dataset size:  (2140,)\n",
      "Test dataset size:  (1783,)\n"
     ]
    }
   ],
   "source": [
    "# load the data\n",
    "_loaded = getdata.load_data(0, test=True, nonas=True)\n",
    "\n",
    "FEATURES = _loaded['features']\n",
    "print 'Number of features:', len(FEATURES)\n",
    "\n",
    "train_data = _loaded['training']['data']\n",
    "train_labels = _loaded['training']['labels']\n",
    "print 'Training dataset size: ', train_data.shape\n",
    "\n",
    "test_data = _loaded['test']['data']\n",
    "print 'Test dataset size: ', test_data.shape"
   ]
  },
  {
   "cell_type": "code",
   "execution_count": 49,
   "metadata": {
    "collapsed": false
   },
   "outputs": [],
   "source": [
    "def decision_tree(data, data_labels, model_label, description, verbose=True, save=False):\n",
    "    ''' Initialize random forest regressor suite '''\n",
    "    dtr_list = []\n",
    "    if verbose:\n",
    "        print \"{:30} Accuracy\".format(\"Model\")\n",
    "    for feat in xrange(30):\n",
    "\n",
    "        dtr = DecisionTreeRegressor(criterion=\"mse\", splitter=\"best\", random_state=0, max_features=100)\n",
    "        dtr.fit(data, data_labels[:,feat])\n",
    "\n",
    "        dtr_list.append( (FEATURES[feat], dtr) )\n",
    "        \n",
    "        if verbose:\n",
    "            print \" - {f:<27} {a:.3%}\".format(f=FEATURES[feat],a=dtr.score(data, data_labels[:,feat]))\n",
    "    \n",
    "    if save:\n",
    "        save4later.save_model(dtr_list, model_label, description, overwrite=True)\n",
    "    \n",
    "    return dtr_list"
   ]
  },
  {
   "cell_type": "markdown",
   "metadata": {},
   "source": [
    "#### Original Images"
   ]
  },
  {
   "cell_type": "code",
   "execution_count": 50,
   "metadata": {
    "collapsed": false
   },
   "outputs": [
    {
     "name": "stdout",
     "output_type": "stream",
     "text": [
      "Model                          Accuracy\n",
      " - left_eye_center_x           100.000%\n",
      " - left_eye_center_y           100.000%\n",
      " - right_eye_center_x          100.000%\n",
      " - right_eye_center_y          100.000%\n",
      " - left_eye_inner_corner_x     100.000%\n",
      " - left_eye_inner_corner_y     100.000%\n",
      " - left_eye_outer_corner_x     100.000%\n",
      " - left_eye_outer_corner_y     100.000%\n",
      " - right_eye_inner_corner_x    100.000%\n",
      " - right_eye_inner_corner_y    100.000%\n",
      " - right_eye_outer_corner_x    100.000%\n",
      " - right_eye_outer_corner_y    100.000%\n",
      " - left_eyebrow_inner_end_x    100.000%\n",
      " - left_eyebrow_inner_end_y    100.000%\n",
      " - left_eyebrow_outer_end_x    100.000%\n",
      " - left_eyebrow_outer_end_y    100.000%\n",
      " - right_eyebrow_inner_end_x   100.000%\n",
      " - right_eyebrow_inner_end_y   100.000%\n",
      " - right_eyebrow_outer_end_x   100.000%\n",
      " - right_eyebrow_outer_end_y   100.000%\n",
      " - nose_tip_x                  100.000%\n",
      " - nose_tip_y                  100.000%\n",
      " - mouth_left_corner_x         100.000%\n",
      " - mouth_left_corner_y         100.000%\n",
      " - mouth_right_corner_x        100.000%\n",
      " - mouth_right_corner_y        100.000%\n",
      " - mouth_center_top_lip_x      100.000%\n",
      " - mouth_center_top_lip_y      100.000%\n",
      " - mouth_center_bottom_lip_x   100.000%\n",
      " - mouth_center_bottom_lip_y   100.000%\n"
     ]
    }
   ],
   "source": [
    "dtrOrigData = decision_tree(train_data.tolist(), train_labels, 'DecTree', 'Decision Tree Original Data', save=True)"
   ]
  },
  {
   "cell_type": "code",
   "execution_count": 51,
   "metadata": {
    "collapsed": false
   },
   "outputs": [
    {
     "name": "stdout",
     "output_type": "stream",
     "text": [
      "\n",
      "... Created the csv file: ../../data/submissions/dtrOrigData_submission.csv\n"
     ]
    }
   ],
   "source": [
    "submit.create_generate(test_data, dtrOrigData, label='dtrOrigData', verbose=False)"
   ]
  },
  {
   "cell_type": "markdown",
   "metadata": {},
   "source": [
    "#### Blur HOG"
   ]
  },
  {
   "cell_type": "code",
   "execution_count": 53,
   "metadata": {
    "collapsed": false
   },
   "outputs": [
    {
     "name": "stdout",
     "output_type": "stream",
     "text": [
      "Loaded pk\n",
      "Model                          Accuracy\n",
      " - left_eye_center_x           100.000%\n",
      " - left_eye_center_y           100.000%\n",
      " - right_eye_center_x          100.000%\n",
      " - right_eye_center_y          100.000%\n",
      " - left_eye_inner_corner_x     100.000%\n",
      " - left_eye_inner_corner_y     100.000%\n",
      " - left_eye_outer_corner_x     100.000%\n",
      " - left_eye_outer_corner_y     100.000%\n",
      " - right_eye_inner_corner_x    100.000%\n",
      " - right_eye_inner_corner_y    100.000%\n",
      " - right_eye_outer_corner_x    100.000%\n",
      " - right_eye_outer_corner_y    100.000%\n",
      " - left_eyebrow_inner_end_x    100.000%\n",
      " - left_eyebrow_inner_end_y    100.000%\n",
      " - left_eyebrow_outer_end_x    100.000%\n",
      " - left_eyebrow_outer_end_y    100.000%\n",
      " - right_eyebrow_inner_end_x   100.000%\n",
      " - right_eyebrow_inner_end_y   100.000%\n",
      " - right_eyebrow_outer_end_x   100.000%\n",
      " - right_eyebrow_outer_end_y   100.000%\n",
      " - nose_tip_x                  100.000%\n",
      " - nose_tip_y                  100.000%\n",
      " - mouth_left_corner_x         100.000%\n",
      " - mouth_left_corner_y         100.000%\n",
      " - mouth_right_corner_x        100.000%\n",
      " - mouth_right_corner_y        100.000%\n",
      " - mouth_center_top_lip_x      100.000%\n",
      " - mouth_center_top_lip_y      100.000%\n",
      " - mouth_center_bottom_lip_x   100.000%\n",
      " - mouth_center_bottom_lip_y   100.000%\n",
      "\n",
      "... Created the csv file: ../../data/submissions/dtrBHOG_submission.csv\n"
     ]
    }
   ],
   "source": [
    "train_bhog = save4later.load_preprod('bhog_nonas')\n",
    "dtrBhog = decision_tree(train_bhog, train_labels, 'DecTreeBhog', 'Decision Tree BHOG', save=True)\n",
    "submit.create_generate(test_data, dtrBhog, label='dtrBHOG', verbose=False)"
   ]
  },
  {
   "cell_type": "markdown",
   "metadata": {},
   "source": [
    "#### Laplace Gauss"
   ]
  },
  {
   "cell_type": "code",
   "execution_count": 54,
   "metadata": {
    "collapsed": false
   },
   "outputs": [
    {
     "name": "stdout",
     "output_type": "stream",
     "text": [
      "Loaded pk\n",
      "Model                          Accuracy\n",
      " - left_eye_center_x           100.000%\n",
      " - left_eye_center_y           100.000%\n",
      " - right_eye_center_x          100.000%\n",
      " - right_eye_center_y          100.000%\n",
      " - left_eye_inner_corner_x     100.000%\n",
      " - left_eye_inner_corner_y     100.000%\n",
      " - left_eye_outer_corner_x     100.000%\n",
      " - left_eye_outer_corner_y     100.000%\n",
      " - right_eye_inner_corner_x    100.000%\n",
      " - right_eye_inner_corner_y    100.000%\n",
      " - right_eye_outer_corner_x    100.000%\n",
      " - right_eye_outer_corner_y    100.000%\n",
      " - left_eyebrow_inner_end_x    100.000%\n",
      " - left_eyebrow_inner_end_y    100.000%\n",
      " - left_eyebrow_outer_end_x    100.000%\n",
      " - left_eyebrow_outer_end_y    100.000%\n",
      " - right_eyebrow_inner_end_x   100.000%\n",
      " - right_eyebrow_inner_end_y   100.000%\n",
      " - right_eyebrow_outer_end_x   100.000%\n",
      " - right_eyebrow_outer_end_y   100.000%\n",
      " - nose_tip_x                  100.000%\n",
      " - nose_tip_y                  100.000%\n",
      " - mouth_left_corner_x         100.000%\n",
      " - mouth_left_corner_y         100.000%\n",
      " - mouth_right_corner_x        100.000%\n",
      " - mouth_right_corner_y        100.000%\n",
      " - mouth_center_top_lip_x      100.000%\n",
      " - mouth_center_top_lip_y      100.000%\n",
      " - mouth_center_bottom_lip_x   100.000%\n",
      " - mouth_center_bottom_lip_y   100.000%\n",
      "\n",
      "... Created the csv file: ../../data/submissions/dtrlapgauss_submission.csv\n"
     ]
    }
   ],
   "source": [
    "train_lapgauss = save4later.load_preprod('lapgauss_nonas')\n",
    "dtrlapgauss = decision_tree(train_lapgauss, train_labels, 'DecTreeLapgauss', 'Decision Tree Laplace Gauss', save=True)\n",
    "submit.create_generate(test_data, dtrlapgauss, label='dtrlapgauss', verbose=False)"
   ]
  },
  {
   "cell_type": "markdown",
   "metadata": {},
   "source": [
    "#### Masked Faces"
   ]
  },
  {
   "cell_type": "code",
   "execution_count": 55,
   "metadata": {
    "collapsed": false
   },
   "outputs": [
    {
     "name": "stdout",
     "output_type": "stream",
     "text": [
      "Loaded pk\n",
      "Model                          Accuracy\n",
      " - left_eye_center_x           100.000%\n",
      " - left_eye_center_y           100.000%\n",
      " - right_eye_center_x          100.000%\n",
      " - right_eye_center_y          100.000%\n",
      " - left_eye_inner_corner_x     100.000%\n",
      " - left_eye_inner_corner_y     100.000%\n",
      " - left_eye_outer_corner_x     100.000%\n",
      " - left_eye_outer_corner_y     100.000%\n",
      " - right_eye_inner_corner_x    100.000%\n",
      " - right_eye_inner_corner_y    100.000%\n",
      " - right_eye_outer_corner_x    100.000%\n",
      " - right_eye_outer_corner_y    100.000%\n",
      " - left_eyebrow_inner_end_x    100.000%\n",
      " - left_eyebrow_inner_end_y    100.000%\n",
      " - left_eyebrow_outer_end_x    100.000%\n",
      " - left_eyebrow_outer_end_y    100.000%\n",
      " - right_eyebrow_inner_end_x   100.000%\n",
      " - right_eyebrow_inner_end_y   100.000%\n",
      " - right_eyebrow_outer_end_x   100.000%\n",
      " - right_eyebrow_outer_end_y   100.000%\n",
      " - nose_tip_x                  100.000%\n",
      " - nose_tip_y                  100.000%\n",
      " - mouth_left_corner_x         100.000%\n",
      " - mouth_left_corner_y         100.000%\n",
      " - mouth_right_corner_x        100.000%\n",
      " - mouth_right_corner_y        100.000%\n",
      " - mouth_center_top_lip_x      100.000%\n",
      " - mouth_center_top_lip_y      100.000%\n",
      " - mouth_center_bottom_lip_x   100.000%\n",
      " - mouth_center_bottom_lip_y   100.000%\n",
      "\n",
      "... Created the csv file: ../../data/submissions/dtrmasked_submission.csv\n"
     ]
    }
   ],
   "source": [
    "train_masked = save4later.load_preprod('masked_nonas')\n",
    "dtrmasked = decision_tree(train_masked, train_labels, 'DecTreeMasked', 'Decision Tree Masked', save=True)\n",
    "submit.create_generate(test_data, dtrmasked, label='dtrmasked', verbose=False)"
   ]
  },
  {
   "cell_type": "markdown",
   "metadata": {},
   "source": [
    "#### Sobel Filter"
   ]
  },
  {
   "cell_type": "code",
   "execution_count": 56,
   "metadata": {
    "collapsed": false
   },
   "outputs": [
    {
     "name": "stdout",
     "output_type": "stream",
     "text": [
      "Loaded pk\n",
      "Model                          Accuracy\n",
      " - left_eye_center_x           100.000%\n",
      " - left_eye_center_y           100.000%\n",
      " - right_eye_center_x          100.000%\n",
      " - right_eye_center_y          100.000%\n",
      " - left_eye_inner_corner_x     100.000%\n",
      " - left_eye_inner_corner_y     100.000%\n",
      " - left_eye_outer_corner_x     100.000%\n",
      " - left_eye_outer_corner_y     100.000%\n",
      " - right_eye_inner_corner_x    100.000%\n",
      " - right_eye_inner_corner_y    100.000%\n",
      " - right_eye_outer_corner_x    100.000%\n",
      " - right_eye_outer_corner_y    100.000%\n",
      " - left_eyebrow_inner_end_x    100.000%\n",
      " - left_eyebrow_inner_end_y    100.000%\n",
      " - left_eyebrow_outer_end_x    100.000%\n",
      " - left_eyebrow_outer_end_y    100.000%\n",
      " - right_eyebrow_inner_end_x   100.000%\n",
      " - right_eyebrow_inner_end_y   100.000%\n",
      " - right_eyebrow_outer_end_x   100.000%\n",
      " - right_eyebrow_outer_end_y   100.000%\n",
      " - nose_tip_x                  100.000%\n",
      " - nose_tip_y                  100.000%\n",
      " - mouth_left_corner_x         100.000%\n",
      " - mouth_left_corner_y         100.000%\n",
      " - mouth_right_corner_x        100.000%\n",
      " - mouth_right_corner_y        100.000%\n",
      " - mouth_center_top_lip_x      100.000%\n",
      " - mouth_center_top_lip_y      100.000%\n",
      " - mouth_center_bottom_lip_x   100.000%\n",
      " - mouth_center_bottom_lip_y   100.000%\n",
      "\n",
      "... Created the csv file: ../../data/submissions/dtrsobel_submission.csv\n"
     ]
    }
   ],
   "source": [
    "train_sobel = save4later.load_preprod('sobel_nonas')\n",
    "dtrsobel = decision_tree(train_sobel, train_labels, 'DecTreeSobel', 'Decision Tree Sobel', save=True)\n",
    "submit.create_generate(test_data, dtrsobel, label='dtrsobel', verbose=False)"
   ]
  },
  {
   "cell_type": "code",
   "execution_count": null,
   "metadata": {
    "collapsed": true
   },
   "outputs": [],
   "source": []
  }
 ],
 "metadata": {
  "kernelspec": {
   "display_name": "Python 2",
   "language": "python",
   "name": "python2"
  },
  "language_info": {
   "codemirror_mode": {
    "name": "ipython",
    "version": 2
   },
   "file_extension": ".py",
   "mimetype": "text/x-python",
   "name": "python",
   "nbconvert_exporter": "python",
   "pygments_lexer": "ipython2",
   "version": "2.7.11"
  }
 },
 "nbformat": 4,
 "nbformat_minor": 0
}
