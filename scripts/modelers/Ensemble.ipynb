{
 "cells": [
  {
   "cell_type": "markdown",
   "metadata": {},
   "source": [
    "# Ensemble Explorations"
   ]
  },
  {
   "cell_type": "code",
   "execution_count": 6,
   "metadata": {
    "collapsed": false
   },
   "outputs": [],
   "source": [
    "# General imports\n",
    "import numpy as np\n",
    "\n",
    "# set the path\n",
    "import sys, os\n",
    "\n",
    "pathArr = os.getcwd().split(\"/\")\n",
    "scriptPath = '/'.join(map(str, pathArr[:len(pathArr)-1]))\n",
    "sys.path.append(scriptPath)\n",
    "\n",
    "# import my tools\n",
    "from tools import save4later, submit, getdata"
   ]
  },
  {
   "cell_type": "code",
   "execution_count": 7,
   "metadata": {
    "collapsed": true
   },
   "outputs": [],
   "source": [
    "from sklearn import tree\n",
    "from sklearn.ensemble import RandomForestRegressor, AdaBoostRegressor\n"
   ]
  },
  {
   "cell_type": "code",
   "execution_count": 8,
   "metadata": {
    "collapsed": false
   },
   "outputs": [
    {
     "name": "stdout",
     "output_type": "stream",
     "text": [
      "Number of features: 30\n",
      "Training dataset size:  (2140,)\n",
      "Test dataset size:  (1783,)\n"
     ]
    }
   ],
   "source": [
    "# load the data\n",
    "_loaded = getdata.load_data(0, test=True, nonas=True)\n",
    "\n",
    "FEATURES = _loaded['features']\n",
    "print 'Number of features:', len(FEATURES)\n",
    "\n",
    "train_data = _loaded['training']['data']\n",
    "train_labels = _loaded['training']['labels']\n",
    "print 'Training dataset size: ', train_data.shape\n",
    "\n",
    "test_data = _loaded['test']['data']\n",
    "print 'Test dataset size: ', test_data.shape"
   ]
  },
  {
   "cell_type": "markdown",
   "metadata": {},
   "source": [
    "## Random Forest"
   ]
  },
  {
   "cell_type": "code",
   "execution_count": 28,
   "metadata": {
    "collapsed": false
   },
   "outputs": [],
   "source": [
    "def random_forest(data, data_labels, model_label, description, verbose=True, save=False):\n",
    "    ''' Initialize random forest regressor suite '''\n",
    "    rf_list = []\n",
    "\n",
    "    if verbose:\n",
    "        print \"{:30} Accuracy\".format(\"Model\")\n",
    "\n",
    "    for feat in xrange(30):\n",
    "        rfc = RandomForestRegressor(criterion=\"mse\", n_estimators=500, max_features=\"log2\")\n",
    "        rfc.fit(data, data_labels[:,feat])\n",
    "\n",
    "        rf_list.append( (FEATURES[feat], rfc) )\n",
    "        \n",
    "        if verbose:\n",
    "            _acc = abc.score(data, data_labels[:,feat])\n",
    "            print \" - {f:<27} {a:.3%}\".format(f=FEATURES[feat],a=_acc)\n",
    "    \n",
    "    if save:\n",
    "        save4later.save_model(rf_list, model_label, description, overwrite=True)\n",
    "    \n",
    "    return rf_list\n"
   ]
  },
  {
   "cell_type": "code",
   "execution_count": 13,
   "metadata": {
    "collapsed": false
   },
   "outputs": [
    {
     "name": "stdout",
     "output_type": "stream",
     "text": [
      "Training feature: left_eye_center_x    SCORE: 90.945%\n",
      "Training feature: left_eye_center_y    SCORE: 93.601%\n",
      "Training feature: right_eye_center_x    SCORE: 91.594%\n",
      "Training feature: right_eye_center_y    SCORE: 93.130%\n",
      "Training feature: left_eye_inner_corner_x    SCORE: 92.355%\n",
      "Training feature: left_eye_inner_corner_y    SCORE: 93.272%\n",
      "Training feature: left_eye_outer_corner_x    SCORE: 92.013%\n",
      "Training feature: left_eye_outer_corner_y    SCORE: 93.581%\n",
      "Training feature: right_eye_inner_corner_x    SCORE: 91.570%\n",
      "Training feature: right_eye_inner_corner_y    SCORE: 93.151%\n",
      "Training feature: right_eye_outer_corner_x    SCORE: 93.012%\n",
      "Training feature: right_eye_outer_corner_y    SCORE: 92.970%\n",
      "Training feature: left_eyebrow_inner_end_x    SCORE: 92.778%\n",
      "Training feature: left_eyebrow_inner_end_y    SCORE: 93.678%\n",
      "Training feature: left_eyebrow_outer_end_x    SCORE: 92.275%\n",
      "Training feature: left_eyebrow_outer_end_y    SCORE: 92.805%\n",
      "Training feature: right_eyebrow_inner_end_x    SCORE: 92.583%\n",
      "Training feature: right_eyebrow_inner_end_y    SCORE: 93.546%\n",
      "Training feature: right_eyebrow_outer_end_x    SCORE: 92.937%\n",
      "Training feature: right_eyebrow_outer_end_y    SCORE: 92.630%\n",
      "Training feature: nose_tip_x    SCORE: 92.221%\n",
      "Training feature: nose_tip_y    SCORE: 94.981%\n",
      "Training feature: mouth_left_corner_x    SCORE: 92.389%\n",
      "Training feature: mouth_left_corner_y    SCORE: 93.969%\n",
      "Training feature: mouth_right_corner_x    SCORE: 92.166%\n",
      "Training feature: mouth_right_corner_y    SCORE: 93.765%\n",
      "Training feature: mouth_center_top_lip_x    SCORE: 91.392%\n",
      "Training feature: mouth_center_top_lip_y    SCORE: 95.108%\n",
      "Training feature: mouth_center_bottom_lip_x    SCORE: 91.759%\n",
      "Training feature: mouth_center_bottom_lip_y    SCORE: 94.239%\n",
      "CPU times: user 8min 20s, sys: 18.2 s, total: 8min 38s\n",
      "Wall time: 14min 30s\n"
     ]
    },
    {
     "data": {
      "text/plain": [
       "[('left_eye_center_x',\n",
       "  RandomForestRegressor(bootstrap=True, criterion='mse', max_depth=None,\n",
       "             max_features='log2', max_leaf_nodes=None, min_samples_leaf=1,\n",
       "             min_samples_split=2, min_weight_fraction_leaf=0.0,\n",
       "             n_estimators=500, n_jobs=1, oob_score=False, random_state=None,\n",
       "             verbose=0, warm_start=False)),\n",
       " ('left_eye_center_y',\n",
       "  RandomForestRegressor(bootstrap=True, criterion='mse', max_depth=None,\n",
       "             max_features='log2', max_leaf_nodes=None, min_samples_leaf=1,\n",
       "             min_samples_split=2, min_weight_fraction_leaf=0.0,\n",
       "             n_estimators=500, n_jobs=1, oob_score=False, random_state=None,\n",
       "             verbose=0, warm_start=False)),\n",
       " ('right_eye_center_x',\n",
       "  RandomForestRegressor(bootstrap=True, criterion='mse', max_depth=None,\n",
       "             max_features='log2', max_leaf_nodes=None, min_samples_leaf=1,\n",
       "             min_samples_split=2, min_weight_fraction_leaf=0.0,\n",
       "             n_estimators=500, n_jobs=1, oob_score=False, random_state=None,\n",
       "             verbose=0, warm_start=False)),\n",
       " ('right_eye_center_y',\n",
       "  RandomForestRegressor(bootstrap=True, criterion='mse', max_depth=None,\n",
       "             max_features='log2', max_leaf_nodes=None, min_samples_leaf=1,\n",
       "             min_samples_split=2, min_weight_fraction_leaf=0.0,\n",
       "             n_estimators=500, n_jobs=1, oob_score=False, random_state=None,\n",
       "             verbose=0, warm_start=False)),\n",
       " ('left_eye_inner_corner_x',\n",
       "  RandomForestRegressor(bootstrap=True, criterion='mse', max_depth=None,\n",
       "             max_features='log2', max_leaf_nodes=None, min_samples_leaf=1,\n",
       "             min_samples_split=2, min_weight_fraction_leaf=0.0,\n",
       "             n_estimators=500, n_jobs=1, oob_score=False, random_state=None,\n",
       "             verbose=0, warm_start=False)),\n",
       " ('left_eye_inner_corner_y',\n",
       "  RandomForestRegressor(bootstrap=True, criterion='mse', max_depth=None,\n",
       "             max_features='log2', max_leaf_nodes=None, min_samples_leaf=1,\n",
       "             min_samples_split=2, min_weight_fraction_leaf=0.0,\n",
       "             n_estimators=500, n_jobs=1, oob_score=False, random_state=None,\n",
       "             verbose=0, warm_start=False)),\n",
       " ('left_eye_outer_corner_x',\n",
       "  RandomForestRegressor(bootstrap=True, criterion='mse', max_depth=None,\n",
       "             max_features='log2', max_leaf_nodes=None, min_samples_leaf=1,\n",
       "             min_samples_split=2, min_weight_fraction_leaf=0.0,\n",
       "             n_estimators=500, n_jobs=1, oob_score=False, random_state=None,\n",
       "             verbose=0, warm_start=False)),\n",
       " ('left_eye_outer_corner_y',\n",
       "  RandomForestRegressor(bootstrap=True, criterion='mse', max_depth=None,\n",
       "             max_features='log2', max_leaf_nodes=None, min_samples_leaf=1,\n",
       "             min_samples_split=2, min_weight_fraction_leaf=0.0,\n",
       "             n_estimators=500, n_jobs=1, oob_score=False, random_state=None,\n",
       "             verbose=0, warm_start=False)),\n",
       " ('right_eye_inner_corner_x',\n",
       "  RandomForestRegressor(bootstrap=True, criterion='mse', max_depth=None,\n",
       "             max_features='log2', max_leaf_nodes=None, min_samples_leaf=1,\n",
       "             min_samples_split=2, min_weight_fraction_leaf=0.0,\n",
       "             n_estimators=500, n_jobs=1, oob_score=False, random_state=None,\n",
       "             verbose=0, warm_start=False)),\n",
       " ('right_eye_inner_corner_y',\n",
       "  RandomForestRegressor(bootstrap=True, criterion='mse', max_depth=None,\n",
       "             max_features='log2', max_leaf_nodes=None, min_samples_leaf=1,\n",
       "             min_samples_split=2, min_weight_fraction_leaf=0.0,\n",
       "             n_estimators=500, n_jobs=1, oob_score=False, random_state=None,\n",
       "             verbose=0, warm_start=False)),\n",
       " ('right_eye_outer_corner_x',\n",
       "  RandomForestRegressor(bootstrap=True, criterion='mse', max_depth=None,\n",
       "             max_features='log2', max_leaf_nodes=None, min_samples_leaf=1,\n",
       "             min_samples_split=2, min_weight_fraction_leaf=0.0,\n",
       "             n_estimators=500, n_jobs=1, oob_score=False, random_state=None,\n",
       "             verbose=0, warm_start=False)),\n",
       " ('right_eye_outer_corner_y',\n",
       "  RandomForestRegressor(bootstrap=True, criterion='mse', max_depth=None,\n",
       "             max_features='log2', max_leaf_nodes=None, min_samples_leaf=1,\n",
       "             min_samples_split=2, min_weight_fraction_leaf=0.0,\n",
       "             n_estimators=500, n_jobs=1, oob_score=False, random_state=None,\n",
       "             verbose=0, warm_start=False)),\n",
       " ('left_eyebrow_inner_end_x',\n",
       "  RandomForestRegressor(bootstrap=True, criterion='mse', max_depth=None,\n",
       "             max_features='log2', max_leaf_nodes=None, min_samples_leaf=1,\n",
       "             min_samples_split=2, min_weight_fraction_leaf=0.0,\n",
       "             n_estimators=500, n_jobs=1, oob_score=False, random_state=None,\n",
       "             verbose=0, warm_start=False)),\n",
       " ('left_eyebrow_inner_end_y',\n",
       "  RandomForestRegressor(bootstrap=True, criterion='mse', max_depth=None,\n",
       "             max_features='log2', max_leaf_nodes=None, min_samples_leaf=1,\n",
       "             min_samples_split=2, min_weight_fraction_leaf=0.0,\n",
       "             n_estimators=500, n_jobs=1, oob_score=False, random_state=None,\n",
       "             verbose=0, warm_start=False)),\n",
       " ('left_eyebrow_outer_end_x',\n",
       "  RandomForestRegressor(bootstrap=True, criterion='mse', max_depth=None,\n",
       "             max_features='log2', max_leaf_nodes=None, min_samples_leaf=1,\n",
       "             min_samples_split=2, min_weight_fraction_leaf=0.0,\n",
       "             n_estimators=500, n_jobs=1, oob_score=False, random_state=None,\n",
       "             verbose=0, warm_start=False)),\n",
       " ('left_eyebrow_outer_end_y',\n",
       "  RandomForestRegressor(bootstrap=True, criterion='mse', max_depth=None,\n",
       "             max_features='log2', max_leaf_nodes=None, min_samples_leaf=1,\n",
       "             min_samples_split=2, min_weight_fraction_leaf=0.0,\n",
       "             n_estimators=500, n_jobs=1, oob_score=False, random_state=None,\n",
       "             verbose=0, warm_start=False)),\n",
       " ('right_eyebrow_inner_end_x',\n",
       "  RandomForestRegressor(bootstrap=True, criterion='mse', max_depth=None,\n",
       "             max_features='log2', max_leaf_nodes=None, min_samples_leaf=1,\n",
       "             min_samples_split=2, min_weight_fraction_leaf=0.0,\n",
       "             n_estimators=500, n_jobs=1, oob_score=False, random_state=None,\n",
       "             verbose=0, warm_start=False)),\n",
       " ('right_eyebrow_inner_end_y',\n",
       "  RandomForestRegressor(bootstrap=True, criterion='mse', max_depth=None,\n",
       "             max_features='log2', max_leaf_nodes=None, min_samples_leaf=1,\n",
       "             min_samples_split=2, min_weight_fraction_leaf=0.0,\n",
       "             n_estimators=500, n_jobs=1, oob_score=False, random_state=None,\n",
       "             verbose=0, warm_start=False)),\n",
       " ('right_eyebrow_outer_end_x',\n",
       "  RandomForestRegressor(bootstrap=True, criterion='mse', max_depth=None,\n",
       "             max_features='log2', max_leaf_nodes=None, min_samples_leaf=1,\n",
       "             min_samples_split=2, min_weight_fraction_leaf=0.0,\n",
       "             n_estimators=500, n_jobs=1, oob_score=False, random_state=None,\n",
       "             verbose=0, warm_start=False)),\n",
       " ('right_eyebrow_outer_end_y',\n",
       "  RandomForestRegressor(bootstrap=True, criterion='mse', max_depth=None,\n",
       "             max_features='log2', max_leaf_nodes=None, min_samples_leaf=1,\n",
       "             min_samples_split=2, min_weight_fraction_leaf=0.0,\n",
       "             n_estimators=500, n_jobs=1, oob_score=False, random_state=None,\n",
       "             verbose=0, warm_start=False)),\n",
       " ('nose_tip_x',\n",
       "  RandomForestRegressor(bootstrap=True, criterion='mse', max_depth=None,\n",
       "             max_features='log2', max_leaf_nodes=None, min_samples_leaf=1,\n",
       "             min_samples_split=2, min_weight_fraction_leaf=0.0,\n",
       "             n_estimators=500, n_jobs=1, oob_score=False, random_state=None,\n",
       "             verbose=0, warm_start=False)),\n",
       " ('nose_tip_y',\n",
       "  RandomForestRegressor(bootstrap=True, criterion='mse', max_depth=None,\n",
       "             max_features='log2', max_leaf_nodes=None, min_samples_leaf=1,\n",
       "             min_samples_split=2, min_weight_fraction_leaf=0.0,\n",
       "             n_estimators=500, n_jobs=1, oob_score=False, random_state=None,\n",
       "             verbose=0, warm_start=False)),\n",
       " ('mouth_left_corner_x',\n",
       "  RandomForestRegressor(bootstrap=True, criterion='mse', max_depth=None,\n",
       "             max_features='log2', max_leaf_nodes=None, min_samples_leaf=1,\n",
       "             min_samples_split=2, min_weight_fraction_leaf=0.0,\n",
       "             n_estimators=500, n_jobs=1, oob_score=False, random_state=None,\n",
       "             verbose=0, warm_start=False)),\n",
       " ('mouth_left_corner_y',\n",
       "  RandomForestRegressor(bootstrap=True, criterion='mse', max_depth=None,\n",
       "             max_features='log2', max_leaf_nodes=None, min_samples_leaf=1,\n",
       "             min_samples_split=2, min_weight_fraction_leaf=0.0,\n",
       "             n_estimators=500, n_jobs=1, oob_score=False, random_state=None,\n",
       "             verbose=0, warm_start=False)),\n",
       " ('mouth_right_corner_x',\n",
       "  RandomForestRegressor(bootstrap=True, criterion='mse', max_depth=None,\n",
       "             max_features='log2', max_leaf_nodes=None, min_samples_leaf=1,\n",
       "             min_samples_split=2, min_weight_fraction_leaf=0.0,\n",
       "             n_estimators=500, n_jobs=1, oob_score=False, random_state=None,\n",
       "             verbose=0, warm_start=False)),\n",
       " ('mouth_right_corner_y',\n",
       "  RandomForestRegressor(bootstrap=True, criterion='mse', max_depth=None,\n",
       "             max_features='log2', max_leaf_nodes=None, min_samples_leaf=1,\n",
       "             min_samples_split=2, min_weight_fraction_leaf=0.0,\n",
       "             n_estimators=500, n_jobs=1, oob_score=False, random_state=None,\n",
       "             verbose=0, warm_start=False)),\n",
       " ('mouth_center_top_lip_x',\n",
       "  RandomForestRegressor(bootstrap=True, criterion='mse', max_depth=None,\n",
       "             max_features='log2', max_leaf_nodes=None, min_samples_leaf=1,\n",
       "             min_samples_split=2, min_weight_fraction_leaf=0.0,\n",
       "             n_estimators=500, n_jobs=1, oob_score=False, random_state=None,\n",
       "             verbose=0, warm_start=False)),\n",
       " ('mouth_center_top_lip_y',\n",
       "  RandomForestRegressor(bootstrap=True, criterion='mse', max_depth=None,\n",
       "             max_features='log2', max_leaf_nodes=None, min_samples_leaf=1,\n",
       "             min_samples_split=2, min_weight_fraction_leaf=0.0,\n",
       "             n_estimators=500, n_jobs=1, oob_score=False, random_state=None,\n",
       "             verbose=0, warm_start=False)),\n",
       " ('mouth_center_bottom_lip_x',\n",
       "  RandomForestRegressor(bootstrap=True, criterion='mse', max_depth=None,\n",
       "             max_features='log2', max_leaf_nodes=None, min_samples_leaf=1,\n",
       "             min_samples_split=2, min_weight_fraction_leaf=0.0,\n",
       "             n_estimators=500, n_jobs=1, oob_score=False, random_state=None,\n",
       "             verbose=0, warm_start=False)),\n",
       " ('mouth_center_bottom_lip_y',\n",
       "  RandomForestRegressor(bootstrap=True, criterion='mse', max_depth=None,\n",
       "             max_features='log2', max_leaf_nodes=None, min_samples_leaf=1,\n",
       "             min_samples_split=2, min_weight_fraction_leaf=0.0,\n",
       "             n_estimators=500, n_jobs=1, oob_score=False, random_state=None,\n",
       "             verbose=0, warm_start=False))]"
      ]
     },
     "execution_count": 13,
     "metadata": {},
     "output_type": "execute_result"
    }
   ],
   "source": [
    "%%time\n",
    "rf_orig = random_forest(train_data.tolist(), train_labels, 'RForig',\n",
    "                        'Base Random Forest noNAs', save=True)"
   ]
  },
  {
   "cell_type": "code",
   "execution_count": 16,
   "metadata": {
    "collapsed": false
   },
   "outputs": [
    {
     "name": "stdout",
     "output_type": "stream",
     "text": [
      "Loaded pk\n"
     ]
    }
   ],
   "source": [
    "rf_orig = save4later.load_model('RForig')"
   ]
  },
  {
   "cell_type": "code",
   "execution_count": 17,
   "metadata": {
    "collapsed": false
   },
   "outputs": [
    {
     "name": "stdout",
     "output_type": "stream",
     "text": [
      "\n",
      "... Created the csv file: ../../data/submissions/RForig_submission.csv\n"
     ]
    }
   ],
   "source": [
    "submit.create_generate(test_data, rf_orig, 'RForig')"
   ]
  },
  {
   "cell_type": "markdown",
   "metadata": {},
   "source": [
    "## AdaBoost"
   ]
  },
  {
   "cell_type": "code",
   "execution_count": null,
   "metadata": {
    "collapsed": true
   },
   "outputs": [],
   "source": [
    "def adaboost(data, data_labels, model_label, description, verbose=True, save=False):\n",
    "    ''' Initialize AdaBoost regressor suite based on Decision Trees '''\n",
    "    rf_list = []\n",
    "    \n",
    "    if verbose:\n",
    "        print \"{:30} Accuracy\".format(\"Model\")\n",
    "\n",
    "    for feat in xrange(30):\n",
    "\n",
    "        if verbose:\n",
    "            print 'Training feature:', FEATURES[feat],\n",
    "\n",
    "        abc = AdaBoostClassifier(default=DecisionTreeRegressor, n_estimators=10)\n",
    "        abc.fit(data.tolist(), data_labels[:,feat])\n",
    "\n",
    "        rf_list.append( (FEATURES[feat], rfc) )\n",
    "        \n",
    "        if verbose:\n",
    "            _acc = abc.score(data.tolist(), data_labels[:,feat])\n",
    "            print \" - {f:<27} {a:.3%}\".format(f=FEATURES[index],a=_acc)\n",
    "    \n",
    "    if save:\n",
    "        save4later.save_model(rf_list, model_label, description)\n",
    "    \n",
    "    return rf_list\n"
   ]
  },
  {
   "cell_type": "code",
   "execution_count": 14,
   "metadata": {
    "collapsed": false
   },
   "outputs": [
    {
     "name": "stdout",
     "output_type": "stream",
     "text": [
      "CPU times: user 2min 43s, sys: 4.04 s, total: 2min 48s\n",
      "Wall time: 5min 1s\n"
     ]
    }
   ],
   "source": [
    "%%time\n",
    "\n",
    "abc = AdaBoostRegressor(n_estimators=50, learning_rate=1)\n",
    "abc.fit(train_data.tolist(), train_labels[:,0])\n",
    "\n",
    "abc.score(train_data.tolist(), train_labels[:,0])"
   ]
  },
  {
   "cell_type": "code",
   "execution_count": null,
   "metadata": {
    "collapsed": true
   },
   "outputs": [],
   "source": [
    "adaboost_suite = adaboost(train_data.tolist(), train_labels, 'Adaboost',\n",
    "                        'Base AdaBoost noNAs', save=True)"
   ]
  },
  {
   "cell_type": "code",
   "execution_count": null,
   "metadata": {
    "collapsed": true
   },
   "outputs": [],
   "source": []
  }
 ],
 "metadata": {
  "kernelspec": {
   "display_name": "Python 2",
   "language": "python",
   "name": "python2"
  },
  "language_info": {
   "codemirror_mode": {
    "name": "ipython",
    "version": 2
   },
   "file_extension": ".py",
   "mimetype": "text/x-python",
   "name": "python",
   "nbconvert_exporter": "python",
   "pygments_lexer": "ipython2",
   "version": "2.7.11"
  }
 },
 "nbformat": 4,
 "nbformat_minor": 0
}
