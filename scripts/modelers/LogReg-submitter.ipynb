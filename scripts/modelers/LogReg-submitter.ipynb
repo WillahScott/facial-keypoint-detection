{
 "cells": [
  {
   "cell_type": "markdown",
   "metadata": {},
   "source": [
    "# Submission creator  \n",
    "Given all the models obtained, create a submission file for each of them"
   ]
  },
  {
   "cell_type": "code",
   "execution_count": 1,
   "metadata": {
    "collapsed": false
   },
   "outputs": [],
   "source": [
    "# General imports\n",
    "import sys\n",
    "import os\n",
    "import numpy as np\n",
    "import pandas as pd\n",
    "\n",
    "# Set the path to import our local tools\n",
    "pathArr = os.getcwd().split(\"/\")\n",
    "scriptPath = '/'.join(map(str, pathArr[:len(pathArr)-1]))\n",
    "sys.path.append(scriptPath)\n",
    "\n",
    "# import my tools\n",
    "from tools import save4later, submit, getdata"
   ]
  },
  {
   "cell_type": "code",
   "execution_count": 2,
   "metadata": {
    "collapsed": false
   },
   "outputs": [
    {
     "name": "stdout",
     "output_type": "stream",
     "text": [
      "Number of features: 30\n",
      "Training dataset size:  (2140,)\n",
      "Test dataset size:  (1783,)\n"
     ]
    }
   ],
   "source": [
    "# load the data\n",
    "_loaded = getdata.load_data(0, test=True, nonas=True)\n",
    "\n",
    "FEATURES = _loaded['features']\n",
    "print 'Number of features:', len(FEATURES)\n",
    "\n",
    "train_data = _loaded['training']['data']\n",
    "train_labels = _loaded['training']['labels']\n",
    "print 'Training dataset size: ', train_data.shape\n",
    "\n",
    "test_data = _loaded['test']['data']\n",
    "print 'Test dataset size: ', test_data.shape"
   ]
  },
  {
   "cell_type": "markdown",
   "metadata": {},
   "source": [
    "## Define Accuracy Functions"
   ]
  },
  {
   "cell_type": "code",
   "execution_count": 9,
   "metadata": {
    "collapsed": true
   },
   "outputs": [],
   "source": [
    "IMAGE_SIZE = 96\n",
    "\n",
    "def get_accuracy(models_list, verbose=False, ret_acc=True, test=None):\n",
    "    ''' Calculates the accuracy for a given suite of models '''\n",
    "    if verbose:\n",
    "        print \"{:30} Accuracy\".format(\"Model\")\n",
    "    \n",
    "    if test is None:\n",
    "        test = train_data.tolist()\n",
    "    \n",
    "    acc_list = []\n",
    "    \n",
    "    for index,(feat,model) in enumerate(models_list):\n",
    "        predications = model.predict(test)\n",
    "        accuracy = np.mean(1 - abs(train_labels[:,index] - predications)/ IMAGE_SIZE)\n",
    "        acc_list.append(accuracy)\n",
    "\n",
    "        if verbose:\n",
    "            print \" - {f:<27} {a:.3%}\".format(f=FEATURES[index],a=accuracy)\n",
    "    \n",
    "    if ret_acc:\n",
    "        return acc_list\n",
    "    \n",
    "def compare_accuracies(iter_model_lists, model_labels):\n",
    "    ''' Compares the accuracy of different model suites '''\n",
    "    accuracies = []\n",
    "    \n",
    "    for mod in iter_model_lists:\n",
    "        accuracies.append( get_accuracy(mod, verbose=False) )\n",
    "    \n",
    "    # Print report\n",
    "    print \" Feature     |   ACCURACIES:    \", '   '.join(model_labels)\n",
    "    \n",
    "    for f in xrange(len(accuracies[0])):  # Num of FEATURES\n",
    "        # format all the accuracies\n",
    "        _entry = \"{:<27}   \".format(FEATURES[f])\n",
    "        for m in xrange(len(accuracies)):\n",
    "            _entry += \" {:.2%}       \".format(accuracies[m][f])\n",
    "        \n",
    "        print _entry"
   ]
  },
  {
   "cell_type": "markdown",
   "metadata": {},
   "source": [
    "## Logistic Regression"
   ]
  },
  {
   "cell_type": "code",
   "execution_count": 5,
   "metadata": {
    "collapsed": false
   },
   "outputs": [
    {
     "name": "stdout",
     "output_type": "stream",
     "text": [
      "Loaded pk\n",
      "Loaded pk\n",
      "Loaded pk\n"
     ]
    }
   ],
   "source": [
    "logistic = save4later.load_model('Logistic')\n",
    "logistic_mask = save4later.load_model('Logistic_Mask')\n",
    "logistic_PCA = save4later.load_model('Logistic_PCA')"
   ]
  },
  {
   "cell_type": "code",
   "execution_count": 8,
   "metadata": {
    "collapsed": false
   },
   "outputs": [
    {
     "name": "stdout",
     "output_type": "stream",
     "text": [
      " Feature     |   ACCURACIES:     LogistR   Log_mask\n",
      "left_eye_center_x              100.00%        99.69%       \n",
      "left_eye_center_y              100.00%        99.73%       \n",
      "right_eye_center_x             100.00%        99.62%       \n",
      "right_eye_center_y             100.00%        99.74%       \n",
      "left_eye_inner_corner_x        100.00%        99.61%       \n",
      "left_eye_inner_corner_y        100.00%        99.70%       \n",
      "left_eye_outer_corner_x        100.00%        99.45%       \n",
      "left_eye_outer_corner_y        100.00%        99.65%       \n",
      "right_eye_inner_corner_x       100.00%        99.55%       \n",
      "right_eye_inner_corner_y       100.00%        99.70%       \n",
      "right_eye_outer_corner_x       100.00%        99.41%       \n",
      "right_eye_outer_corner_y       100.00%        99.63%       \n",
      "left_eyebrow_inner_end_x       100.00%        99.39%       \n",
      "left_eyebrow_inner_end_y       100.00%        99.54%       \n",
      "left_eyebrow_outer_end_x       100.00%        99.29%       \n",
      "left_eyebrow_outer_end_y       100.00%        99.19%       \n",
      "right_eyebrow_inner_end_x      100.00%        99.34%       \n",
      "right_eyebrow_inner_end_y      100.00%        99.48%       \n",
      "right_eyebrow_outer_end_x      100.00%        99.29%       \n",
      "right_eyebrow_outer_end_y      100.00%        99.16%       \n",
      "nose_tip_x                     100.00%        99.32%       \n",
      "nose_tip_y                     100.00%        99.33%       \n",
      "mouth_left_corner_x            100.00%        99.10%       \n",
      "mouth_left_corner_y            100.00%        99.30%       \n",
      "mouth_right_corner_x           100.00%        99.09%       \n",
      "mouth_right_corner_y           100.00%        99.32%       \n",
      "mouth_center_top_lip_x         100.00%        99.42%       \n",
      "mouth_center_top_lip_y         100.00%        99.19%       \n",
      "mouth_center_bottom_lip_x      100.00%        99.37%       \n",
      "mouth_center_bottom_lip_y      100.00%        98.98%       \n"
     ]
    }
   ],
   "source": [
    "compare_accuracies([logistic, logistic_mask],\n",
    "                   ['LogistR', 'Log_mask'])"
   ]
  },
  {
   "cell_type": "code",
   "execution_count": 10,
   "metadata": {
    "collapsed": false
   },
   "outputs": [
    {
     "name": "stdout",
     "output_type": "stream",
     "text": [
      "\n",
      "... Created the csv file: ../../data/submissions/logistic_submission.csv\n",
      "\n",
      "... Created the csv file: ../../data/submissions/logistic_mask_submission.csv\n"
     ]
    }
   ],
   "source": [
    "submit.create_generate(test_data, logistic, label='logistic', verbose=False)\n",
    "submit.create_generate(test_data, logistic_mask, label='logistic_mask', verbose=False)"
   ]
  },
  {
   "cell_type": "markdown",
   "metadata": {},
   "source": [
    "### Logistic Regression on PCA\n",
    "\n",
    "Since the PCA needs to be applied tot he test data as well, let's create the submission aside."
   ]
  },
  {
   "cell_type": "code",
   "execution_count": 15,
   "metadata": {
    "collapsed": false
   },
   "outputs": [
    {
     "name": "stdout",
     "output_type": "stream",
     "text": [
      "Loaded pk\n",
      "Loaded pk\n"
     ]
    }
   ],
   "source": [
    "pca_test = save4later.load_preprod('pca_transformed')\n",
    "pca_train = save4later.load_preprod('pca_trained')"
   ]
  },
  {
   "cell_type": "code",
   "execution_count": 17,
   "metadata": {
    "collapsed": false
   },
   "outputs": [
    {
     "name": "stdout",
     "output_type": "stream",
     "text": [
      "Model                          Accuracy\n",
      " - left_eye_center_x           99.577%\n",
      " - left_eye_center_y           99.363%\n",
      " - right_eye_center_x          99.556%\n",
      " - right_eye_center_y          99.638%\n",
      " - left_eye_inner_corner_x     99.288%\n",
      " - left_eye_inner_corner_y     99.606%\n",
      " - left_eye_outer_corner_x     99.395%\n",
      " - left_eye_outer_corner_y     99.510%\n",
      " - right_eye_inner_corner_x    99.448%\n",
      " - right_eye_inner_corner_y    99.574%\n",
      " - right_eye_outer_corner_x    99.449%\n",
      " - right_eye_outer_corner_y    99.445%\n",
      " - left_eyebrow_inner_end_x    98.849%\n",
      " - left_eyebrow_inner_end_y    99.006%\n",
      " - left_eyebrow_outer_end_x    99.310%\n",
      " - left_eyebrow_outer_end_y    99.045%\n",
      " - right_eyebrow_inner_end_x   99.249%\n",
      " - right_eyebrow_inner_end_y   99.010%\n",
      " - right_eyebrow_outer_end_x   98.674%\n",
      " - right_eyebrow_outer_end_y   98.832%\n",
      " - nose_tip_x                  98.912%\n",
      " - nose_tip_y                  99.518%\n",
      " - mouth_left_corner_x         99.031%\n",
      " - mouth_left_corner_y         99.577%\n",
      " - mouth_right_corner_x        99.138%\n",
      " - mouth_right_corner_y        99.535%\n",
      " - mouth_center_top_lip_x      99.266%\n",
      " - mouth_center_top_lip_y      99.100%\n",
      " - mouth_center_bottom_lip_x   99.357%\n",
      " - mouth_center_bottom_lip_y   99.030%\n"
     ]
    }
   ],
   "source": [
    "get_accuracy(logistic_PCA, test=pca_train, verbose=True, ret_acc=False)"
   ]
  },
  {
   "cell_type": "code",
   "execution_count": 18,
   "metadata": {
    "collapsed": false
   },
   "outputs": [
    {
     "name": "stdout",
     "output_type": "stream",
     "text": [
      "\n",
      "... Created the csv file: ../../data/submissions/logistic_PCA_submission.csv\n"
     ]
    }
   ],
   "source": [
    "submit.create_generate(pca_test, logistic_PCA, label='logistic_PCA', verbose=False)"
   ]
  },
  {
   "cell_type": "code",
   "execution_count": null,
   "metadata": {
    "collapsed": true
   },
   "outputs": [],
   "source": []
  }
 ],
 "metadata": {
  "kernelspec": {
   "display_name": "Python 2",
   "language": "python",
   "name": "python2"
  },
  "language_info": {
   "codemirror_mode": {
    "name": "ipython",
    "version": 2
   },
   "file_extension": ".py",
   "mimetype": "text/x-python",
   "name": "python",
   "nbconvert_exporter": "python",
   "pygments_lexer": "ipython2",
   "version": "2.7.11"
  }
 },
 "nbformat": 4,
 "nbformat_minor": 0
}
