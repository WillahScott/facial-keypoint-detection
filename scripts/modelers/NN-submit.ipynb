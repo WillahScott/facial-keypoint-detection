{
 "cells": [
  {
   "cell_type": "markdown",
   "metadata": {},
   "source": [
    "## Neural Nets for FKD\n"
   ]
  },
  {
   "cell_type": "code",
   "execution_count": 1,
   "metadata": {
    "collapsed": false
   },
   "outputs": [],
   "source": [
    "# initiate packages for NN - Theano etc.\n",
    "%matplotlib inline\n",
    "\n",
    "import numpy as np\n",
    "from sklearn.datasets import fetch_mldata\n",
    "from sklearn.metrics import classification_report\n",
    "from sklearn.neighbors import KNeighborsClassifier\n",
    "import matplotlib.pyplot as plt\n",
    "import time\n",
    "import cPickle as pickle\n",
    "\n",
    "import theano \n",
    "from theano import tensor as T\n",
    "from theano.sandbox.rng_mrg import MRG_RandomStreams as RandomStreams\n",
    "device = theano.config.device # We're using CPUs (for now)\n",
    "floatConf = theano.config.floatX # Should be 64 bit for CPUs\n",
    "\n",
    "# due to theano errors, we are forcing this to be float32\n",
    "'''if (theano.config.floatX == 'float32'):\n",
    "    floatConf = np.float32\n",
    "else:\n",
    "    floatConf = np.float64'''\n",
    "floatConf = np.float32\n",
    "\n",
    "np.random.seed(0)"
   ]
  },
  {
   "cell_type": "code",
   "execution_count": 2,
   "metadata": {
    "collapsed": false
   },
   "outputs": [],
   "source": [
    "from lasagne import layers\n",
    "from lasagne.updates import nesterov_momentum\n",
    "from nolearn.lasagne import NeuralNet"
   ]
  },
  {
   "cell_type": "code",
   "execution_count": 3,
   "metadata": {
    "collapsed": false
   },
   "outputs": [],
   "source": [
    "# load our tools\n",
    "import sys, os\n",
    "\n",
    "pathArr = os.getcwd().split(\"/\")\n",
    "scriptPath = '/'.join(map(str, pathArr[:len(pathArr)-1]))\n",
    "sys.path.append(scriptPath)\n",
    "\n",
    "# import submit module from our tools subfolder\n",
    "from tools import submit, getdata, save4later"
   ]
  },
  {
   "cell_type": "code",
   "execution_count": 4,
   "metadata": {
    "collapsed": false
   },
   "outputs": [
    {
     "name": "stdout",
     "output_type": "stream",
     "text": [
      "Number of features: 30\n",
      "Training dataset size:  (2140, 9216)\n",
      "Test dataset size:  (1783, 9216)\n"
     ]
    }
   ],
   "source": [
    "# load data\n",
    "_loaded = getdata.load_data(0, test=True, nonas=True)\n",
    "\n",
    "FEATURES = _loaded['features']\n",
    "print 'Number of features:', len(FEATURES)\n",
    "\n",
    "# load and scale pixel values to [0, 1]\n",
    "train_data = np.vstack(_loaded['training']['data']) / 255.\n",
    "train_data = train_data.astype(floatConf)\n",
    "\n",
    "# load and scale target coordinates to [-1, 1]\n",
    "train_labels = _loaded['training']['labels']\n",
    "train_labels = (train_labels - 48) / 48\n",
    "train_labels = train_labels.astype(floatConf)\n",
    "    \n",
    "print 'Training dataset size: ', train_data.shape\n",
    "\n",
    "test_data = np.vstack(_loaded['test']['data']) / 255.\n",
    "test_data = test_data.astype(floatConf)\n",
    "\n",
    "print 'Test dataset size: ', test_data.shape"
   ]
  },
  {
   "cell_type": "code",
   "execution_count": 5,
   "metadata": {
    "collapsed": true
   },
   "outputs": [],
   "source": [
    "def NNFunc(data, label):\n",
    "    ''' Creates a trained Neural Network with the specified dataset '''\n",
    "    net1 = NeuralNet(\n",
    "        layers=[\n",
    "            ('input', layers.InputLayer),\n",
    "            ('hidden', layers.DenseLayer),\n",
    "            ('output', layers.DenseLayer),\n",
    "            ],\n",
    "        # layer parameters:\n",
    "        input_shape=(None, 9216),  \n",
    "        hidden_num_units=100,\n",
    "        output_nonlinearity=None, \n",
    "        output_num_units=30,\n",
    "\n",
    "        # optimization method:\n",
    "        update=nesterov_momentum,\n",
    "        update_learning_rate=0.01,\n",
    "        update_momentum=0.9,\n",
    "\n",
    "        regression=True,  # flag to indicate we're dealing with regression problem\n",
    "        max_epochs=400,  # we want to train this many epochs\n",
    "        verbose=0,\n",
    "        )\n",
    "    net1.fit(data, label)\n",
    "    return net1"
   ]
  },
  {
   "cell_type": "code",
   "execution_count": 6,
   "metadata": {
    "collapsed": true
   },
   "outputs": [],
   "source": [
    "def plot_sample(x, y, axis):\n",
    "    ''' Plot sample test predictions '''\n",
    "    img = x.reshape(96, 96)\n",
    "    axis.imshow(img, cmap='gray')\n",
    "    axis.scatter(y[0::2] * 48 + 48, y[1::2] * 48 + 48, marker='x', s=10)\n"
   ]
  },
  {
   "cell_type": "code",
   "execution_count": null,
   "metadata": {
    "collapsed": true
   },
   "outputs": [],
   "source": [
    "# Create Neural Network\n",
    "net1 = NNFunc(train_data, train_labels)\n",
    "\n",
    "# Get predictions\n",
    "y_pred = net1.predict(train_data)\n",
    "\n",
    "# Plot predictions\n",
    "fig = plt.figure(figsize=(6, 6))\n",
    "fig.subplots_adjust(\n",
    "    left=0, right=1, bottom=0, top=1, hspace=0.05, wspace=0.05)\n",
    "\n",
    "for i in range(25):\n",
    "    ax = fig.add_subplot(5, 5, i + 1, xticks=[], yticks=[])\n",
    "    plot_sample(train_data[i], y_pred[i], ax)\n",
    "\n",
    "plt.show()"
   ]
  },
  {
   "cell_type": "code",
   "execution_count": 24,
   "metadata": {
    "collapsed": true
   },
   "outputs": [],
   "source": [
    "def get_NN_accuracy(y_pred, train_labels, verbose=False, ret_acc=True):\n",
    "    ''' Calculates the accuracy for given predicted and labels data '''\n",
    "    if verbose:\n",
    "        print \"{:30} Accuracy\".format(\"Model\")\n",
    "    \n",
    "    acc_list = []\n",
    "    \n",
    "    for index in range(y_pred.shape[1]):\n",
    "        accuracy = np.mean(1 - abs(train_labels[:,index] - y_pred[:,index])/ 2)\n",
    "        acc_list.append(accuracy)\n",
    "\n",
    "        if verbose:\n",
    "            print \" - {f:<27} {a:.3%}\".format(f=FEATURES[index],a=accuracy)\n",
    "    \n",
    "    if ret_acc:\n",
    "        return acc_list"
   ]
  },
  {
   "cell_type": "code",
   "execution_count": 29,
   "metadata": {
    "collapsed": true
   },
   "outputs": [],
   "source": [
    "nnOrigData = NNFunc(train_data, train_labels)\n",
    "save4later.save_model(nnOrigData, \"nnOrigData\", \"NN on Original Data\")"
   ]
  },
  {
   "cell_type": "code",
   "execution_count": 34,
   "metadata": {
    "collapsed": false
   },
   "outputs": [
    {
     "name": "stdout",
     "output_type": "stream",
     "text": [
      "Model                          Accuracy\n",
      " - left_eye_center_x           97.985%\n",
      " - left_eye_center_y           98.641%\n",
      " - right_eye_center_x          98.269%\n",
      " - right_eye_center_y          98.310%\n",
      " - left_eye_inner_corner_x     98.131%\n",
      " - left_eye_inner_corner_y     98.669%\n",
      " - left_eye_outer_corner_x     98.197%\n",
      " - left_eye_outer_corner_y     98.424%\n",
      " - right_eye_inner_corner_x    98.265%\n",
      " - right_eye_inner_corner_y    98.661%\n",
      " - right_eye_outer_corner_x    98.330%\n",
      " - right_eye_outer_corner_y    98.492%\n",
      " - left_eyebrow_inner_end_x    98.126%\n",
      " - left_eyebrow_inner_end_y    98.067%\n",
      " - left_eyebrow_outer_end_x    97.833%\n",
      " - left_eyebrow_outer_end_y    97.857%\n",
      " - right_eyebrow_inner_end_x   97.986%\n",
      " - right_eyebrow_inner_end_y   97.485%\n",
      " - right_eyebrow_outer_end_x   97.730%\n",
      " - right_eyebrow_outer_end_y   97.511%\n",
      " - nose_tip_x                  97.898%\n",
      " - nose_tip_y                  96.765%\n",
      " - mouth_left_corner_x         97.779%\n",
      " - mouth_left_corner_y         97.648%\n",
      " - mouth_right_corner_x        97.834%\n",
      " - mouth_right_corner_y        97.520%\n",
      " - mouth_center_top_lip_x      98.573%\n",
      " - mouth_center_top_lip_y      96.775%\n",
      " - mouth_center_bottom_lip_x   98.584%\n",
      " - mouth_center_bottom_lip_y   96.618%\n"
     ]
    },
    {
     "data": {
      "text/plain": [
       "[0.97984717145319911,\n",
       " 0.9864066965859537,\n",
       " 0.98269105455577965,\n",
       " 0.98309615657448524,\n",
       " 0.9813134205618842,\n",
       " 0.98668740313339409,\n",
       " 0.98196546320718536,\n",
       " 0.98423963358955768,\n",
       " 0.98264851071252723,\n",
       " 0.98661424669016584,\n",
       " 0.98329518974952179,\n",
       " 0.98492077080892226,\n",
       " 0.98125746010026049,\n",
       " 0.98066600939065063,\n",
       " 0.9783339709342308,\n",
       " 0.97856832025327989,\n",
       " 0.97986115347088321,\n",
       " 0.9748542275161991,\n",
       " 0.97729680445553058,\n",
       " 0.97511243647156465,\n",
       " 0.97897588902073818,\n",
       " 0.96765294820231895,\n",
       " 0.97778904451892867,\n",
       " 0.97648184594940768,\n",
       " 0.97834401422629425,\n",
       " 0.97519568942016077,\n",
       " 0.98573257026745242,\n",
       " 0.96774817094797538,\n",
       " 0.98583908939124609,\n",
       " 0.9661779846926204]"
      ]
     },
     "execution_count": 34,
     "metadata": {},
     "output_type": "execute_result"
    }
   ],
   "source": [
    "get_NN_accuracy(nnOrigData.predict(train_data), train_labels, verbose=True)"
   ]
  },
  {
   "cell_type": "code",
   "execution_count": null,
   "metadata": {
    "collapsed": true
   },
   "outputs": [],
   "source": []
  },
  {
   "cell_type": "markdown",
   "metadata": {},
   "source": [
    "## Create Submission for NN"
   ]
  },
  {
   "cell_type": "code",
   "execution_count": 5,
   "metadata": {
    "collapsed": false
   },
   "outputs": [
    {
     "name": "stdout",
     "output_type": "stream",
     "text": [
      "(2140, 30)\n"
     ]
    }
   ],
   "source": [
    "# Assuming this is the format of the output\n",
    "y_pred = np.ones_like(train_labels)\n",
    "print y_pred.shape"
   ]
  },
  {
   "cell_type": "code",
   "execution_count": 6,
   "metadata": {
    "collapsed": false
   },
   "outputs": [
    {
     "name": "stdout",
     "output_type": "stream",
     "text": [
      "\n",
      "... Created the csv file: ../../data/submissions/NN_test_submission.csv\n"
     ]
    }
   ],
   "source": [
    "submit.create_generate_NN(y_pred, FEATURES, 'NN_test')"
   ]
  },
  {
   "cell_type": "code",
   "execution_count": null,
   "metadata": {
    "collapsed": true
   },
   "outputs": [],
   "source": []
  }
 ],
 "metadata": {
  "kernelspec": {
   "display_name": "Python 2",
   "language": "python",
   "name": "python2"
  },
  "language_info": {
   "codemirror_mode": {
    "name": "ipython",
    "version": 2
   },
   "file_extension": ".py",
   "mimetype": "text/x-python",
   "name": "python",
   "nbconvert_exporter": "python",
   "pygments_lexer": "ipython2",
   "version": "2.7.11"
  }
 },
 "nbformat": 4,
 "nbformat_minor": 0
}
