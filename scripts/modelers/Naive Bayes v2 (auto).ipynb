{
 "cells": [
  {
   "cell_type": "markdown",
   "metadata": {},
   "source": [
    "# Naive Bayes v2\n",
    "In this version of the Naive Bayes notebook, we attempt to simplify our previous notebook by creating a function to automatically fit the model and find the optimal alpha values"
   ]
  },
  {
   "cell_type": "markdown",
   "metadata": {},
   "source": [
    "## Load the libraries"
   ]
  },
  {
   "cell_type": "code",
   "execution_count": 1,
   "metadata": {
    "collapsed": true
   },
   "outputs": [],
   "source": [
    "# set the path\n",
    "import sys, os\n",
    "\n",
    "pathArr = os.getcwd().split(\"/\")\n",
    "scriptPath = '/'.join(map(str, pathArr[:len(pathArr)-1]))\n",
    "sys.path.append(scriptPath)\n",
    "\n",
    "# import my tools\n",
    "from tools import save4later, submit, getdata\n",
    "\n",
    "# import the sklearn libraries and numpy\n",
    "from sklearn.naive_bayes import MultinomialNB\n",
    "from sklearn.grid_search import GridSearchCV\n",
    "import numpy as np"
   ]
  },
  {
   "cell_type": "markdown",
   "metadata": {},
   "source": [
    "## Define accuracy functions"
   ]
  },
  {
   "cell_type": "code",
   "execution_count": 18,
   "metadata": {
    "collapsed": true
   },
   "outputs": [],
   "source": [
    "IMAGE_SIZE = 96\n",
    "\n",
    "def get_accuracy(models_list, verbose=False, ret_acc=True):\n",
    "    ''' Calculates the accuracy for a given suite of models '''\n",
    "    if verbose:\n",
    "        print \"{:30} Accuracy\".format(\"Model\")\n",
    "    \n",
    "    acc_list = []\n",
    "    \n",
    "    for index,(feat,model) in enumerate(models_list):\n",
    "        predications = model.predict(train_data.tolist())\n",
    "        accuracy = np.mean(1 - abs(train_labels[:,index] - predications)/ IMAGE_SIZE)\n",
    "        acc_list.append(accuracy)\n",
    "\n",
    "        if verbose:\n",
    "            print \" - {f:<27} {a:.3%}\".format(f=FEATURES[index],a=accuracy)\n",
    "    \n",
    "    if ret_acc:\n",
    "        return acc_list\n",
    "    \n",
    "def compare_accuracies(iter_model_lists, model_labels):\n",
    "    ''' Compares the accuracy of different model suites '''\n",
    "    accuracies = []\n",
    "    \n",
    "    for mod in iter_model_lists:\n",
    "        accuracies.append( get_accuracy(mod, verbose=False) )\n",
    "    \n",
    "    # Print report\n",
    "    print \" Feature  |    ACCURACIES:    \", '   '.join(model_labels)\n",
    "    \n",
    "    for f in xrange(len(accuracies[0])):  # Num of FEATURES\n",
    "        # format all the accuracies\n",
    "        _entry = \"{:<27}   \".format(FEATURES[f])\n",
    "        for m in xrange(len(accuracies)):\n",
    "            _entry += \" {:.2%}     \".format(accuracies[m][f])\n",
    "        \n",
    "        print _entry"
   ]
  },
  {
   "cell_type": "markdown",
   "metadata": {},
   "source": [
    "## Load the data"
   ]
  },
  {
   "cell_type": "code",
   "execution_count": 3,
   "metadata": {
    "collapsed": false
   },
   "outputs": [
    {
     "name": "stdout",
     "output_type": "stream",
     "text": [
      "Number of features: 30\n",
      "Training dataset size:  (2140,)\n",
      "Test dataset size:  (1783,)\n"
     ]
    }
   ],
   "source": [
    "# load the data\n",
    "_loaded = getdata.load_data(0, test=True, nonas=True)\n",
    "\n",
    "FEATURES = _loaded['features']\n",
    "print 'Number of features:', len(FEATURES)\n",
    "\n",
    "train_data = _loaded['training']['data']\n",
    "train_labels = _loaded['training']['labels']\n",
    "print 'Training dataset size: ', train_data.shape\n",
    "\n",
    "test_data = _loaded['test']['data']\n",
    "print 'Test dataset size: ', test_data.shape"
   ]
  },
  {
   "cell_type": "markdown",
   "metadata": {},
   "source": [
    "## Load all the preprocessed data"
   ]
  },
  {
   "cell_type": "code",
   "execution_count": 4,
   "metadata": {
    "collapsed": false
   },
   "outputs": [
    {
     "name": "stdout",
     "output_type": "stream",
     "text": [
      "Loaded pk\n",
      "Loaded pk\n",
      "Loaded pk\n",
      "Loaded pk\n",
      "Loaded pk\n",
      "...finished loading pre-processed data\n"
     ]
    }
   ],
   "source": [
    "# load the masked training data\n",
    "train_masked = save4later.load_preprod(\"masked_nonas\")\n",
    "\n",
    "# load the sobel training data\n",
    "train_sobel = save4later.load_preprod(\"sobel_nonas\")\n",
    "\n",
    "# load the blurred HOG training data\n",
    "train_HOG = save4later.load_preprod(\"bhog_nonas\")\n",
    "\n",
    "# load the laplace & gaussian training data\n",
    "train_LapG = save4later.load_preprod(\"lapgauss_nonas\")\n",
    "\n",
    "# load the gaussian blurred training data\n",
    "train_gauss = save4later.load_preprod(\"gauss_nonas\")\n",
    "\n",
    "print \"...finished loading pre-processed data\""
   ]
  },
  {
   "cell_type": "markdown",
   "metadata": {},
   "source": [
    "## Create a function that will train a multinomial naive bayes model on some data and find the optimal alpha values"
   ]
  },
  {
   "cell_type": "code",
   "execution_count": 5,
   "metadata": {
    "collapsed": true
   },
   "outputs": [],
   "source": [
    "def MultiNBfit(training_data, training_labels, features, parameters = {'alpha':[0.001, 0.01, 0.1, 0.5, 1.0, 5.0, 10.0]}):\n",
    "    \"\"\"A function that takes some training data and some parameters of interest and \n",
    "    returns a list of fitted multinomial naive bayes model on that training data where\n",
    "    each model corresponds with a column in the training labels data and is optimized\n",
    "    for the given alpha values\"\"\"\n",
    "    \n",
    "    # create an array to store the models\n",
    "    multinomials = []\n",
    "    \n",
    "    # loop through all the possible features\n",
    "    for index,feature in enumerate(features):\n",
    "        \n",
    "        # initalize the multinomial naive bayes model\n",
    "        multinomial = MultinomialNB()\n",
    "        \n",
    "        # set the search for the optimal alpha given our parameter options\n",
    "        alpha_search = GridSearchCV(multinomial,parameters)\n",
    "        \n",
    "        # fit the search model to the training data\n",
    "        alpha_search.fit(training_data, training_labels[:,index])\n",
    "        \n",
    "        # find the best alpha value\n",
    "        best_alpha = alpha_search.best_params_\n",
    "        \n",
    "        # fit a model with the best alpha value\n",
    "        multinomial_optimal = MultinomialNB(alpha = best_alpha['alpha'])\n",
    "        multinomial_optimal.fit(training_data, training_labels[:,index])\n",
    "        \n",
    "        # create a tuple with the model and its associated facial feature\n",
    "        appending = feature, multinomial_optimal\n",
    "\n",
    "        # append the model and its name to our list\n",
    "        multinomials.append(appending)\n",
    "        \n",
    "    # return the list of models\n",
    "    return multinomials"
   ]
  },
  {
   "cell_type": "markdown",
   "metadata": {},
   "source": [
    "## Fit a naive bayes model to the original training data"
   ]
  },
  {
   "cell_type": "code",
   "execution_count": 6,
   "metadata": {
    "collapsed": false
   },
   "outputs": [
    {
     "name": "stderr",
     "output_type": "stream",
     "text": [
      "/Users/will/miniconda3/envs/ocv/lib/python2.7/site-packages/sklearn/cross_validation.py:516: Warning: The least populated class in y has only 1 members, which is too few. The minimum number of labels for any class cannot be less than n_folds=3.\n",
      "  % (min_labels, self.n_folds)), Warning)\n"
     ]
    }
   ],
   "source": [
    "# fit a multinomial naive bayes model and save it\n",
    "multi_base = MultiNBfit(train_data.tolist(),train_labels, FEATURES)\n",
    "save4later.save_model(multi_base, 'Multi_NB', \n",
    "                      'Multinomial naive bayes without preprocessed data with no NAs',overwrite=True)"
   ]
  },
  {
   "cell_type": "markdown",
   "metadata": {},
   "source": [
    "## Fit a naive bayes model to masked training data\n",
    "We mask our training data by removing the non-facial parts of the photographs"
   ]
  },
  {
   "cell_type": "code",
   "execution_count": 7,
   "metadata": {
    "collapsed": true
   },
   "outputs": [],
   "source": [
    "# fit a multinomial naive bayes model and save it\n",
    "multi_mask = MultiNBfit(train_masked,train_labels, FEATURES)\n",
    "save4later.save_model(multi_mask, 'Multi_NB_mask', \n",
    "                      'Multinomial naive bayes with masked data with no NAs',overwrite=True)"
   ]
  },
  {
   "cell_type": "markdown",
   "metadata": {},
   "source": [
    "## Fit the naive bayes model to the sobel training data"
   ]
  },
  {
   "cell_type": "code",
   "execution_count": 8,
   "metadata": {
    "collapsed": true
   },
   "outputs": [],
   "source": [
    "# fit a multinomial naive bayes model and save it\n",
    "multi_sobel = MultiNBfit(train_sobel,train_labels, FEATURES)\n",
    "save4later.save_model(multi_sobel, 'Multi_NB_sobel', \n",
    "                      'Multinomial naive bayes with sobel data with no NAs',overwrite=True)"
   ]
  },
  {
   "cell_type": "markdown",
   "metadata": {},
   "source": [
    "## Fit the naive bayes model to the blurred HOG training data"
   ]
  },
  {
   "cell_type": "code",
   "execution_count": 9,
   "metadata": {
    "collapsed": true
   },
   "outputs": [],
   "source": [
    "# fit a multinomial naive bayes model and save it\n",
    "multi_HOG = MultiNBfit(train_HOG,train_labels, FEATURES)\n",
    "save4later.save_model(multi_HOG, 'Multi_NB_HOG', \n",
    "                      'Multinomial naive bayes with blurred HOG data with no NAs',overwrite=True)"
   ]
  },
  {
   "cell_type": "markdown",
   "metadata": {},
   "source": [
    "## Fit the naive bayes model to the LaPlace and Gaussian transformed data"
   ]
  },
  {
   "cell_type": "code",
   "execution_count": 10,
   "metadata": {
    "collapsed": true
   },
   "outputs": [],
   "source": [
    "# fit a multinomial naive bayes model and save it\n",
    "multi_LapG = MultiNBfit(train_LapG,train_labels, FEATURES)\n",
    "save4later.save_model(multi_LapG, 'Multi_NB_LapG', \n",
    "                      'Multinomial naive bayes with Laplace and Gaussian transformed data with no NAs',overwrite=True)"
   ]
  },
  {
   "cell_type": "markdown",
   "metadata": {},
   "source": [
    "## Fit the naive bayes model to the Gaussian blurred data"
   ]
  },
  {
   "cell_type": "code",
   "execution_count": 11,
   "metadata": {
    "collapsed": true
   },
   "outputs": [],
   "source": [
    "# fit a multinomial naive bayes model and save it\n",
    "multi_gauss = MultiNBfit(train_gauss,train_labels, FEATURES)\n",
    "save4later.save_model(multi_gauss, 'Multi_NB_gauss', \n",
    "                      'Multinomial naive bayes with Gaussian blurred data with no NAs',overwrite=True)"
   ]
  },
  {
   "cell_type": "markdown",
   "metadata": {},
   "source": [
    "## Compare the accuracies of the different models"
   ]
  },
  {
   "cell_type": "code",
   "execution_count": 14,
   "metadata": {
    "collapsed": false
   },
   "outputs": [],
   "source": [
    "# set the models and the model names to a list\n",
    "all_models = [multi_base, multi_mask, multi_sobel, multi_HOG, multi_LapG]\n",
    "all_model_names = ['MultNB', 'Mult_mask','Mult_sobel', 'Mult_HOG', 'Mult_LapG']"
   ]
  },
  {
   "cell_type": "code",
   "execution_count": 19,
   "metadata": {
    "collapsed": false
   },
   "outputs": [
    {
     "name": "stdout",
     "output_type": "stream",
     "text": [
      " Feature  |    ACCURACIES:     MultNB   Mult_mask   Mult_sobel   Mult_HOG   Mult_LapG\n",
      "left_eye_center_x              96.02%      92.85%      93.59%      87.82%      93.54%     \n",
      "left_eye_center_y              96.26%      92.56%      91.99%      89.60%      92.45%     \n",
      "right_eye_center_x             97.17%      91.19%      91.80%      90.31%      93.66%     \n",
      "right_eye_center_y             96.63%      92.03%      92.63%      88.60%      93.53%     \n",
      "left_eye_inner_corner_x        97.40%      93.87%      92.02%      89.67%      93.48%     \n",
      "left_eye_inner_corner_y        96.87%      93.76%      93.78%      90.30%      93.63%     \n",
      "left_eye_outer_corner_x        96.66%      91.17%      93.08%      86.21%      93.01%     \n",
      "left_eye_outer_corner_y        96.04%      91.53%      92.04%      88.88%      91.81%     \n",
      "right_eye_inner_corner_x       97.66%      94.68%      95.43%      92.01%      94.03%     \n",
      "right_eye_inner_corner_y       96.66%      93.22%      93.59%      90.68%      93.56%     \n",
      "right_eye_outer_corner_x       96.26%      89.22%      92.74%      88.61%      92.71%     \n",
      "right_eye_outer_corner_y       96.29%      90.93%      92.88%      94.65%      91.93%     \n",
      "left_eyebrow_inner_end_x       96.37%      92.14%      91.21%      87.65%      90.31%     \n",
      "left_eyebrow_inner_end_y       95.00%      92.58%      88.67%      87.70%      91.93%     \n",
      "left_eyebrow_outer_end_x       96.14%      91.29%      91.11%      84.99%      91.03%     \n",
      "left_eyebrow_outer_end_y       95.26%      92.60%      89.80%      83.67%      89.93%     \n",
      "right_eyebrow_inner_end_x      96.48%      91.89%      92.38%      89.84%      91.89%     \n",
      "right_eyebrow_inner_end_y      95.69%      91.94%      90.58%      86.43%      90.98%     \n",
      "right_eyebrow_outer_end_x      95.91%      85.63%      89.74%      85.16%      91.45%     \n",
      "right_eyebrow_outer_end_y      94.33%      90.42%      90.36%      85.03%      90.35%     \n",
      "nose_tip_x                     95.72%      89.78%      90.57%      93.17%      90.20%     \n",
      "nose_tip_y                     95.22%      87.02%      89.31%      80.58%      89.52%     \n",
      "mouth_left_corner_x            95.02%      87.03%      88.16%      78.01%      89.37%     \n",
      "mouth_left_corner_y            94.80%      85.43%      88.05%      83.04%      89.59%     \n",
      "mouth_right_corner_x           95.37%      90.00%      89.22%      84.07%      88.40%     \n",
      "mouth_right_corner_y           94.63%      88.58%      87.56%      84.12%      88.85%     \n",
      "mouth_center_top_lip_x         95.99%      90.57%      89.23%      87.83%      91.38%     \n",
      "mouth_center_top_lip_y         95.08%      84.87%      81.99%      78.27%      87.89%     \n",
      "mouth_center_bottom_lip_x      95.47%      89.05%      89.70%      85.07%      90.35%     \n",
      "mouth_center_bottom_lip_y      93.11%      93.76%      88.09%      80.15%      88.95%     \n"
     ]
    }
   ],
   "source": [
    "# compare the accuracies\n",
    "compare_accuracies(all_models,all_model_names)"
   ]
  },
  {
   "cell_type": "markdown",
   "metadata": {},
   "source": [
    "## Create a submission from each of the models on the test data"
   ]
  },
  {
   "cell_type": "code",
   "execution_count": 22,
   "metadata": {
    "collapsed": false,
    "scrolled": false
   },
   "outputs": [
    {
     "name": "stdout",
     "output_type": "stream",
     "text": [
      "\n",
      "... Created the csv file: ../../data/submissions/MultNB_submission.csv\n",
      "\n",
      "... Created the csv file: ../../data/submissions/Mult_mask_submission.csv\n",
      "\n",
      "... Created the csv file: ../../data/submissions/Mult_sobel_submission.csv\n",
      "\n",
      "... Created the csv file: ../../data/submissions/Mult_HOG_submission.csv\n",
      "\n",
      "... Created the csv file: ../../data/submissions/Mult_LapG_submission.csv\n"
     ]
    }
   ],
   "source": [
    "# loop through model, generating the submission file\n",
    "for index,model in enumerate(all_models):\n",
    "    submit.create_generate(test_data, model, all_model_names[index], verbose=False)\n",
    "    "
   ]
  },
  {
   "cell_type": "code",
   "execution_count": null,
   "metadata": {
    "collapsed": true
   },
   "outputs": [],
   "source": []
  }
 ],
 "metadata": {
  "kernelspec": {
   "display_name": "Python 2",
   "language": "python",
   "name": "python2"
  },
  "language_info": {
   "codemirror_mode": {
    "name": "ipython",
    "version": 2
   },
   "file_extension": ".py",
   "mimetype": "text/x-python",
   "name": "python",
   "nbconvert_exporter": "python",
   "pygments_lexer": "ipython2",
   "version": "2.7.11"
  }
 },
 "nbformat": 4,
 "nbformat_minor": 0
}
