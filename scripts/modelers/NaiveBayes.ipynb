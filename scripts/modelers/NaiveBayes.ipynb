{
 "cells": [
  {
   "cell_type": "markdown",
   "metadata": {},
   "source": [
    "# Multinomial Naive Bayes Model"
   ]
  },
  {
   "cell_type": "markdown",
   "metadata": {},
   "source": [
    "## Import libraries"
   ]
  },
  {
   "cell_type": "code",
   "execution_count": 32,
   "metadata": {
    "collapsed": false
   },
   "outputs": [],
   "source": [
    "# set the path\n",
    "import sys, os\n",
    "\n",
    "pathArr = os.getcwd().split(\"/\")\n",
    "scriptPath = '/'.join(map(str, pathArr[:len(pathArr)-1]))\n",
    "sys.path.append(scriptPath)\n",
    "\n",
    "# import my tools\n",
    "from tools import save4later, submit, getdata\n",
    "\n",
    "# import the sklearn libraries and numpy\n",
    "from sklearn.naive_bayes import MultinomialNB\n",
    "from sklearn.grid_search import GridSearchCV\n",
    "import numpy as np"
   ]
  },
  {
   "cell_type": "markdown",
   "metadata": {},
   "source": [
    "## Load the data"
   ]
  },
  {
   "cell_type": "code",
   "execution_count": 33,
   "metadata": {
    "collapsed": false
   },
   "outputs": [
    {
     "name": "stdout",
     "output_type": "stream",
     "text": [
      "Number of features: 30\n",
      "Training dataset size:  (2140,)\n",
      "Test dataset size:  (1783,)\n"
     ]
    }
   ],
   "source": [
    "# load the data\n",
    "_loaded = getdata.load_data(0, test=True, nonas=True)\n",
    "\n",
    "FEATURES = _loaded['features']\n",
    "print 'Number of features:', len(FEATURES)\n",
    "\n",
    "train_data = _loaded['training']['data']\n",
    "train_labels = _loaded['training']['labels']\n",
    "print 'Training dataset size: ', train_data.shape\n",
    "\n",
    "test_data = _loaded['test']['data']\n",
    "print 'Test dataset size: ', test_data.shape"
   ]
  },
  {
   "cell_type": "markdown",
   "metadata": {},
   "source": [
    "## Train Naive Bayes models for each feature"
   ]
  },
  {
   "cell_type": "code",
   "execution_count": 34,
   "metadata": {
    "collapsed": true
   },
   "outputs": [],
   "source": [
    "# create an array to store the multinomial naive bayes models\n",
    "multinomials = []\n",
    "\n",
    "# initalize a set of reasonable alphas that we would like to search for the optimal alpha\n",
    "MNparameters = {'alpha':[0.001, 0.01, 0.1, 0.5, 1.0, 5.0, 10.0]}\n",
    "\n",
    "# loop through all the facial features\n",
    "for index,facial_feature in enumerate(FEATURES):\n",
    "    \n",
    "    # initalize the multinomail naive bayes model\n",
    "    Multinomial = MultinomialNB()\n",
    "\n",
    "    # set the alpha search with the given alpha options and the Multinomial model\n",
    "    alpha_search = GridSearchCV(Multinomial,MNparameters)\n",
    "\n",
    "    # fit the Gridsearch model on the training data\n",
    "    alpha_search.fit(train_data.tolist(),train_labels[:,index])\n",
    "\n",
    "    # find the best parameter\n",
    "    best_alpha = alpha_search.best_params_\n",
    "\n",
    "    # fit a model with the best alpha\n",
    "    Multinomial_optimal = MultinomialNB(alpha = best_alpha['alpha'])\n",
    "    Multinomial_optimal.fit(train_data.tolist(),train_labels[:,index])\n",
    "    \n",
    "    # create a tuple with the model and its associated facial feature\n",
    "    appending = facial_feature, Multinomial_optimal\n",
    "    \n",
    "    # append the model and its name to our list\n",
    "    multinomials.append(appending)\n",
    "\n",
    "# save the models for later\n",
    "save4later.save_model(multinomials, 'MultinomialNB', \n",
    "                      'Multinomial naive bayes with non-preprocessed data with no NAs',overwrite=True)"
   ]
  },
  {
   "cell_type": "markdown",
   "metadata": {},
   "source": [
    "## Load the model"
   ]
  },
  {
   "cell_type": "code",
   "execution_count": 35,
   "metadata": {
    "collapsed": false
   },
   "outputs": [
    {
     "name": "stdout",
     "output_type": "stream",
     "text": [
      "Loaded pk\n"
     ]
    }
   ],
   "source": [
    "multinomials = save4later.load_model(\"MultinomialNB\")"
   ]
  },
  {
   "cell_type": "markdown",
   "metadata": {},
   "source": [
    "## Run the models on the test data"
   ]
  },
  {
   "cell_type": "code",
   "execution_count": 36,
   "metadata": {
    "collapsed": false
   },
   "outputs": [
    {
     "name": "stdout",
     "output_type": "stream",
     "text": [
      "Predicting \"left_eye_center_x\"... done! (0.2s)\n",
      "Predicting \"left_eye_center_y\"... done! (0.1s)\n",
      "Predicting \"right_eye_center_x\"... done! (0.1s)\n",
      "Predicting \"right_eye_center_y\"... done! (0.1s)\n",
      "Predicting \"left_eye_inner_corner_x\"... done! (0.1s)\n",
      "Predicting \"left_eye_inner_corner_y\"... done! (0.1s)\n",
      "Predicting \"left_eye_outer_corner_x\"... done! (0.2s)\n",
      "Predicting \"left_eye_outer_corner_y\"... done! (0.1s)\n",
      "Predicting \"right_eye_inner_corner_x\"... done! (0.1s)\n",
      "Predicting \"right_eye_inner_corner_y\"... done! (0.1s)\n",
      "Predicting \"right_eye_outer_corner_x\"... done! (0.2s)\n",
      "Predicting \"right_eye_outer_corner_y\"... done! (0.2s)\n",
      "Predicting \"left_eyebrow_inner_end_x\"... done! (0.2s)\n",
      "Predicting \"left_eyebrow_inner_end_y\"... done! (0.1s)\n",
      "Predicting \"left_eyebrow_outer_end_x\"... done! (0.1s)\n",
      "Predicting \"left_eyebrow_outer_end_y\"... done! (0.2s)\n",
      "Predicting \"right_eyebrow_inner_end_x\"... done! (0.2s)\n",
      "Predicting \"right_eyebrow_inner_end_y\"... done! (0.1s)\n",
      "Predicting \"right_eyebrow_outer_end_x\"... done! (0.1s)\n",
      "Predicting \"right_eyebrow_outer_end_y\"... done! (0.1s)\n",
      "Predicting \"nose_tip_x\"... done! (0.1s)\n",
      "Predicting \"nose_tip_y\"... done! (0.1s)\n",
      "Predicting \"mouth_left_corner_x\"... done! (0.1s)\n",
      "Predicting \"mouth_left_corner_y\"... done! (0.1s)\n",
      "Predicting \"mouth_right_corner_x\"... done! (0.1s)\n",
      "Predicting \"mouth_right_corner_y\"... done! (0.1s)\n",
      "Predicting \"mouth_center_top_lip_x\"... done! (0.1s)\n",
      "Predicting \"mouth_center_top_lip_y\"... done! (0.1s)\n",
      "Predicting \"mouth_center_bottom_lip_x\"... done! (0.1s)\n",
      "Predicting \"mouth_center_bottom_lip_y\"... done! (0.2s)\n",
      "\n",
      "... Created the csv file: ../../data/submissions/multinomials_submission.csv\n"
     ]
    }
   ],
   "source": [
    "submit.create_generate(test_data, multinomials, 'multinomials', verbose=True)"
   ]
  },
  {
   "cell_type": "markdown",
   "metadata": {},
   "source": [
    "## Calculate accuracies for training data"
   ]
  },
  {
   "cell_type": "code",
   "execution_count": 37,
   "metadata": {
    "collapsed": false
   },
   "outputs": [
    {
     "name": "stdout",
     "output_type": "stream",
     "text": [
      "Model                          Accuracy\n",
      " - left_eye_center_x           96.023%\n",
      " - left_eye_center_y           96.255%\n",
      " - right_eye_center_x          97.168%\n",
      " - right_eye_center_y          96.625%\n",
      " - left_eye_inner_corner_x     97.402%\n",
      " - left_eye_inner_corner_y     96.869%\n",
      " - left_eye_outer_corner_x     96.665%\n",
      " - left_eye_outer_corner_y     96.036%\n",
      " - right_eye_inner_corner_x    97.664%\n",
      " - right_eye_inner_corner_y    96.663%\n",
      " - right_eye_outer_corner_x    96.258%\n",
      " - right_eye_outer_corner_y    96.286%\n",
      " - left_eyebrow_inner_end_x    96.369%\n",
      " - left_eyebrow_inner_end_y    95.002%\n",
      " - left_eyebrow_outer_end_x    96.137%\n",
      " - left_eyebrow_outer_end_y    95.255%\n",
      " - right_eyebrow_inner_end_x   96.482%\n",
      " - right_eyebrow_inner_end_y   95.688%\n",
      " - right_eyebrow_outer_end_x   95.911%\n",
      " - right_eyebrow_outer_end_y   94.327%\n",
      " - nose_tip_x                  95.722%\n",
      " - nose_tip_y                  95.219%\n",
      " - mouth_left_corner_x         95.021%\n",
      " - mouth_left_corner_y         94.796%\n",
      " - mouth_right_corner_x        95.367%\n",
      " - mouth_right_corner_y        94.632%\n",
      " - mouth_center_top_lip_x      95.988%\n",
      " - mouth_center_top_lip_y      95.078%\n",
      " - mouth_center_bottom_lip_x   95.468%\n",
      " - mouth_center_bottom_lip_y   93.105%\n"
     ]
    }
   ],
   "source": [
    "print \"{:30} Accuracy\".format(\"Model\")\n",
    "\n",
    "# use the models to predict the dev data\n",
    "for index,(feat,model) in enumerate(multinomials):\n",
    "    predications = model.predict(train_data.tolist())\n",
    "    accuracy = np.mean(1 - abs(train_labels[:,index] - predications)/96)\n",
    "    print \" - {f:<27} {a:.3%}\".format(f=FEATURES[index],a=accuracy)"
   ]
  },
  {
   "cell_type": "markdown",
   "metadata": {},
   "source": [
    "## Fit naive bayes models on 'masked' preprocessed data\n",
    "We use face detect to remove the background before putting the data through our naive bayes models."
   ]
  },
  {
   "cell_type": "code",
   "execution_count": 38,
   "metadata": {
    "collapsed": false
   },
   "outputs": [
    {
     "name": "stdout",
     "output_type": "stream",
     "text": [
      "Loaded pk\n"
     ]
    }
   ],
   "source": [
    "# load the masked training data\n",
    "train_masked = save4later.load_preprod(\"masked_nonas\")"
   ]
  },
  {
   "cell_type": "code",
   "execution_count": 39,
   "metadata": {
    "collapsed": false
   },
   "outputs": [],
   "source": [
    "# create an array to store the multinomial naive bayes models\n",
    "Mask_multinomials = []\n",
    "\n",
    "# initalize a set of reasonable alphas that we would like to search for the optimal alpha\n",
    "MNparameters = {'alpha':[0.001, 0.01, 0.1, 0.5, 1.0, 5.0, 10.0]}\n",
    "\n",
    "# loop through all the facial features\n",
    "for index,facial_feature in enumerate(FEATURES):\n",
    "    \n",
    "    # initalize the multinomail naive bayes model\n",
    "    Multinomial = MultinomialNB()\n",
    "\n",
    "    # set the alpha search with the given alpha options and the Multinomial model\n",
    "    alpha_search = GridSearchCV(Multinomial,MNparameters)\n",
    "\n",
    "    # fit the Gridsearch model on the training data\n",
    "    alpha_search.fit(train_masked,train_labels[:,index])\n",
    "\n",
    "    # find the best parameter\n",
    "    best_alpha = alpha_search.best_params_\n",
    "\n",
    "    # fit a model with the best alpha\n",
    "    Multinomial_optimal = MultinomialNB(alpha = best_alpha['alpha'])\n",
    "    Multinomial_optimal.fit(train_masked,train_labels[:,index])\n",
    "    \n",
    "    # create a tuple with the model and its associated facial feature\n",
    "    appending = facial_feature, Multinomial_optimal\n",
    "    \n",
    "    # append the model and its name to our list\n",
    "    Mask_multinomials.append(appending)\n",
    "\n",
    "# save the models for later\n",
    "save4later.save_model(multinomials, 'MultinomialNB_Mask', \n",
    "                      'Multinomial naive bayes with masked data with no NAs',overwrite=True)"
   ]
  },
  {
   "cell_type": "markdown",
   "metadata": {},
   "source": [
    "## Calculate accuracies on the masked data"
   ]
  },
  {
   "cell_type": "code",
   "execution_count": 40,
   "metadata": {
    "collapsed": false
   },
   "outputs": [
    {
     "name": "stdout",
     "output_type": "stream",
     "text": [
      "Model                          Accuracy\n",
      " - left_eye_center_x           96.362%\n",
      " - left_eye_center_y           96.372%\n",
      " - right_eye_center_x          95.991%\n",
      " - right_eye_center_y          96.502%\n",
      " - left_eye_inner_corner_x     96.714%\n",
      " - left_eye_inner_corner_y     95.895%\n",
      " - left_eye_outer_corner_x     94.128%\n",
      " - left_eye_outer_corner_y     94.607%\n",
      " - right_eye_inner_corner_x    97.217%\n",
      " - right_eye_inner_corner_y    97.173%\n",
      " - right_eye_outer_corner_x    94.001%\n",
      " - right_eye_outer_corner_y    93.601%\n",
      " - left_eyebrow_inner_end_x    95.809%\n",
      " - left_eyebrow_inner_end_y    95.797%\n",
      " - left_eyebrow_outer_end_x    93.704%\n",
      " - left_eyebrow_outer_end_y    93.538%\n",
      " - right_eyebrow_inner_end_x   95.535%\n",
      " - right_eyebrow_inner_end_y   95.396%\n",
      " - right_eyebrow_outer_end_x   92.221%\n",
      " - right_eyebrow_outer_end_y   91.992%\n",
      " - nose_tip_x                  93.300%\n",
      " - nose_tip_y                  90.154%\n",
      " - mouth_left_corner_x         90.837%\n",
      " - mouth_left_corner_y         90.917%\n",
      " - mouth_right_corner_x        91.385%\n",
      " - mouth_right_corner_y        91.258%\n",
      " - mouth_center_top_lip_x      93.207%\n",
      " - mouth_center_top_lip_y      90.000%\n",
      " - mouth_center_bottom_lip_x   91.706%\n",
      " - mouth_center_bottom_lip_y   91.976%\n"
     ]
    }
   ],
   "source": [
    "print \"{:30} Accuracy\".format(\"Model\")\n",
    "\n",
    "# use the models to predict the dev data\n",
    "for index,(feat,model) in enumerate(Mask_multinomials):\n",
    "    predications = model.predict(train_masked)\n",
    "    accuracy = np.mean(1 - abs(train_labels[:,index] - predications)/96)\n",
    "    print \" - {f:<27} {a:.3%}\".format(f=FEATURES[index],a=accuracy)"
   ]
  },
  {
   "cell_type": "code",
   "execution_count": null,
   "metadata": {
    "collapsed": true
   },
   "outputs": [],
   "source": []
  }
 ],
 "metadata": {
  "kernelspec": {
   "display_name": "Python 2",
   "language": "python",
   "name": "python2"
  },
  "language_info": {
   "codemirror_mode": {
    "name": "ipython",
    "version": 2
   },
   "file_extension": ".py",
   "mimetype": "text/x-python",
   "name": "python",
   "nbconvert_exporter": "python",
   "pygments_lexer": "ipython2",
   "version": "2.7.11"
  }
 },
 "nbformat": 4,
 "nbformat_minor": 0
}
