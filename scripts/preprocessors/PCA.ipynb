{
 "cells": [
  {
   "cell_type": "markdown",
   "metadata": {},
   "source": [
    "## Facial keypoints detection with PCA"
   ]
  },
  {
   "cell_type": "code",
   "execution_count": 1,
   "metadata": {
    "collapsed": true
   },
   "outputs": [],
   "source": [
    "# set the path\n",
    "import sys, os\n",
    "\n",
    "pathArr = os.getcwd().split(\"/\")\n",
    "scriptPath = '/'.join(map(str, pathArr[:len(pathArr)-1]))\n",
    "sys.path.append(scriptPath)\n",
    "\n",
    "# import my tools\n",
    "from tools import save4later, getdata"
   ]
  },
  {
   "cell_type": "markdown",
   "metadata": {},
   "source": [
    "Import necessary librarioes & Load data"
   ]
  },
  {
   "cell_type": "code",
   "execution_count": 2,
   "metadata": {
    "collapsed": true
   },
   "outputs": [],
   "source": [
    "%matplotlib inline\n",
    "\n",
    "import numpy as np\n",
    "import matplotlib.pyplot as plt\n",
    "from sklearn import metrics\n",
    "from sklearn.decomposition import PCA\n",
    "from sklearn.cluster import KMeans\n",
    "from sklearn.mixture import GMM\n",
    "from matplotlib.colors import LogNorm"
   ]
  },
  {
   "cell_type": "code",
   "execution_count": 3,
   "metadata": {
    "collapsed": false
   },
   "outputs": [
    {
     "name": "stdout",
     "output_type": "stream",
     "text": [
      "Number of features: 30\n",
      "Training dataset size:  (2140,)\n",
      "Test dataset size:  (1783,)\n"
     ]
    }
   ],
   "source": [
    "# Load data (no dev)\n",
    "_loaded = getdata.load_data(0, test=True, nonas=True)\n",
    "\n",
    "FEATURES = _loaded['features']\n",
    "print 'Number of features:', len(FEATURES)\n",
    "\n",
    "train_data = _loaded['training']['data']\n",
    "train_labels = _loaded['training']['labels']\n",
    "print 'Training dataset size: ', train_data.shape\n",
    "\n",
    "test_data = _loaded['test']['data']\n",
    "print 'Test dataset size: ', test_data.shape"
   ]
  },
  {
   "cell_type": "code",
   "execution_count": 4,
   "metadata": {
    "collapsed": false
   },
   "outputs": [
    {
     "data": {
      "text/plain": [
       "[u'seaborn-darkgrid',\n",
       " u'seaborn-notebook',\n",
       " u'classic',\n",
       " u'seaborn-ticks',\n",
       " u'grayscale',\n",
       " u'bmh',\n",
       " u'seaborn-talk',\n",
       " u'dark_background',\n",
       " u'ggplot',\n",
       " u'fivethirtyeight',\n",
       " u'seaborn-colorblind',\n",
       " u'seaborn-deep',\n",
       " u'seaborn-whitegrid',\n",
       " u'seaborn-bright',\n",
       " u'seaborn-poster',\n",
       " u'seaborn-muted',\n",
       " u'seaborn-paper',\n",
       " u'seaborn-white',\n",
       " u'seaborn-pastel',\n",
       " u'seaborn-dark',\n",
       " u'seaborn-dark-palette']"
      ]
     },
     "execution_count": 4,
     "metadata": {},
     "output_type": "execute_result"
    }
   ],
   "source": [
    "plt.style.available"
   ]
  },
  {
   "cell_type": "code",
   "execution_count": 5,
   "metadata": {
    "collapsed": true
   },
   "outputs": [],
   "source": [
    "plt.style.use('seaborn-dark')"
   ]
  },
  {
   "cell_type": "markdown",
   "metadata": {},
   "source": [
    "We first check the shape of the dataset.\n",
    "We start with transforming the data into the appropriate shape for PCA."
   ]
  },
  {
   "cell_type": "code",
   "execution_count": 6,
   "metadata": {
    "collapsed": true
   },
   "outputs": [],
   "source": [
    "train_data = map(lambda t: list(t), train_data)"
   ]
  },
  {
   "cell_type": "code",
   "execution_count": 9,
   "metadata": {
    "collapsed": false
   },
   "outputs": [
    {
     "name": "stdout",
     "output_type": "stream",
     "text": [
      "Explained variance ratio: \n",
      "[  3.07988471e-01   1.46464803e-01   8.55195537e-02   5.64495062e-02\n",
      "   3.35921870e-02   2.37623900e-02   2.30913534e-02   1.70909720e-02\n",
      "   1.39440947e-02   1.22423535e-02   1.18389381e-02   1.01843586e-02\n",
      "   8.13717805e-03   7.87934508e-03   7.01210802e-03   6.40215478e-03\n",
      "   6.11604932e-03   5.36280525e-03   5.14034675e-03   4.81829209e-03\n",
      "   4.61257902e-03   4.57329347e-03   4.29411043e-03   3.91626770e-03\n",
      "   3.73278200e-03   3.52834915e-03   3.25418150e-03   3.12452771e-03\n",
      "   3.07199884e-03   2.92910839e-03   2.79258921e-03   2.73183620e-03\n",
      "   2.51007944e-03   2.43349361e-03   2.28960917e-03   2.24434704e-03\n",
      "   2.14747982e-03   2.12141863e-03   2.07755062e-03   2.04945391e-03\n",
      "   1.96460494e-03   1.87118921e-03   1.78529336e-03   1.72633829e-03\n",
      "   1.62930741e-03   1.60213590e-03   1.55277297e-03   1.54839659e-03\n",
      "   1.45954143e-03   1.43188499e-03   1.41325213e-03   1.38835671e-03\n",
      "   1.34008693e-03   1.29470801e-03   1.27797787e-03   1.26254097e-03\n",
      "   1.24413570e-03   1.21942986e-03   1.15828118e-03   1.14508780e-03\n",
      "   1.13085330e-03   1.10403669e-03   1.09334215e-03   1.04862924e-03\n",
      "   1.03670118e-03   1.00689342e-03   9.96169302e-04   9.55654209e-04\n",
      "   9.32588910e-04   9.27762334e-04   9.04431077e-04   8.93396855e-04\n",
      "   8.68375927e-04   8.37470066e-04   8.29202789e-04   8.18180676e-04\n",
      "   8.11788083e-04   7.96772985e-04   7.92763695e-04   7.66358698e-04\n",
      "   7.53982159e-04   7.37000387e-04   7.31890019e-04   7.27676130e-04\n",
      "   7.02322642e-04   6.97032788e-04   6.95653651e-04   6.82293769e-04\n",
      "   6.74116298e-04   6.67765667e-04   6.54087369e-04   6.42139797e-04\n",
      "   6.30948906e-04   6.21363789e-04   5.98689095e-04   5.97043185e-04\n",
      "   5.93360609e-04   5.84968128e-04   5.70979340e-04   5.65809489e-04\n",
      "   5.61558985e-04   5.54815358e-04   5.53478123e-04   5.35196580e-04\n",
      "   5.32562131e-04   5.22397865e-04   5.18768330e-04   5.13643459e-04\n",
      "   5.04067104e-04   5.02527734e-04   4.90780871e-04   4.80374532e-04\n",
      "   4.77718294e-04   4.72651527e-04   4.69982375e-04   4.67441235e-04\n",
      "   4.60450101e-04   4.54417343e-04   4.50580026e-04   4.39388505e-04\n",
      "   4.37702133e-04   4.29963213e-04   4.25245871e-04   4.21912825e-04\n",
      "   4.17724808e-04   4.11205212e-04   4.07391270e-04   4.03223207e-04\n",
      "   3.99362441e-04   3.91372601e-04   3.86194228e-04   3.78737632e-04\n",
      "   3.77761782e-04   3.74587953e-04   3.72349803e-04   3.62901965e-04\n",
      "   3.61837083e-04   3.57599665e-04   3.53655686e-04   3.52096240e-04\n",
      "   3.50938380e-04   3.49036416e-04   3.42823657e-04   3.41502733e-04\n",
      "   3.35320365e-04   3.33516734e-04   3.29305835e-04   3.26924297e-04\n",
      "   3.23385953e-04   3.21589468e-04   3.17943982e-04   3.14089213e-04\n",
      "   3.12271054e-04   3.08873003e-04   3.08555884e-04   3.06499265e-04\n",
      "   3.02108189e-04   3.00687847e-04   2.98743973e-04   2.97824194e-04\n",
      "   2.93097499e-04   2.90362334e-04   2.88632968e-04   2.85397977e-04\n",
      "   2.83299287e-04   2.78379342e-04   2.76859945e-04   2.74935558e-04\n",
      "   2.72341268e-04   2.68416975e-04   2.66270585e-04   2.64062333e-04\n",
      "   2.62202624e-04   2.61544810e-04   2.58127398e-04   2.56103263e-04\n",
      "   2.51549777e-04   2.48856826e-04   2.47042474e-04   2.45838221e-04\n",
      "   2.43752339e-04   2.41259980e-04   2.40784559e-04   2.38940914e-04\n",
      "   2.37389013e-04   2.34903714e-04   2.34285947e-04   2.32742633e-04\n",
      "   2.29248438e-04   2.28412286e-04   2.26679302e-04   2.25113135e-04\n",
      "   2.23646333e-04   2.22454869e-04   2.22148723e-04   2.19075745e-04\n",
      "   2.17746718e-04   2.15600420e-04   2.14303145e-04   2.12960437e-04\n",
      "   2.10816870e-04   2.09349321e-04   2.08132989e-04   2.06771801e-04\n",
      "   2.05827030e-04   2.02100460e-04   1.99888234e-04   1.99380082e-04\n",
      "   1.97426318e-04   1.96405961e-04   1.94853544e-04   1.93844269e-04\n",
      "   1.92856186e-04   1.91751750e-04   1.90721053e-04   1.89591383e-04\n",
      "   1.88051305e-04   1.87474451e-04   1.86753118e-04   1.84969903e-04\n",
      "   1.83311685e-04   1.82391001e-04   1.81158684e-04   1.80504575e-04\n",
      "   1.78302251e-04   1.76955695e-04   1.76276955e-04   1.75193403e-04\n",
      "   1.73845606e-04   1.73178146e-04   1.71577536e-04   1.71353883e-04\n",
      "   1.69614270e-04   1.67992626e-04   1.67124164e-04   1.65957603e-04\n",
      "   1.65285627e-04   1.65063422e-04   1.64385674e-04   1.62891304e-04\n",
      "   1.61956777e-04   1.61067407e-04   1.60419835e-04   1.59989932e-04\n",
      "   1.58643853e-04   1.57810943e-04   1.57056078e-04   1.56180634e-04\n",
      "   1.56013038e-04   1.54942376e-04]\n",
      "Cumulative explained variance: \n",
      "0.957583880777\n"
     ]
    }
   ],
   "source": [
    "pca_mod = PCA(n_components = 250)\n",
    "pca_trained = pca_mod.fit_transform(train_data)\n",
    "    \n",
    "cum_exp_var = np.sum(pca_mod.explained_variance_ratio_ )\n",
    "\n",
    "print 'Explained variance ratio: \\n', pca_mod.explained_variance_ratio_\n",
    "print 'Cumulative explained variance: \\n', cum_exp_var\n"
   ]
  },
  {
   "cell_type": "code",
   "execution_count": 10,
   "metadata": {
    "collapsed": true
   },
   "outputs": [],
   "source": [
    "test_data = map(lambda t: list(t), test_data)\n",
    "\n",
    "pca_transformed = pca_mod.transform(test_data)"
   ]
  },
  {
   "cell_type": "code",
   "execution_count": 11,
   "metadata": {
    "collapsed": true
   },
   "outputs": [],
   "source": [
    "save4later.save_preprod(pca_trained, 'pca_trained', 'trained data transormed with 250-component PCA')"
   ]
  },
  {
   "cell_type": "code",
   "execution_count": 12,
   "metadata": {
    "collapsed": true
   },
   "outputs": [],
   "source": [
    "save4later.save_preprod(pca_transformed, 'pca_transformed', 'test data transormed with 250-component PCA')"
   ]
  },
  {
   "cell_type": "code",
   "execution_count": 13,
   "metadata": {
    "collapsed": false
   },
   "outputs": [
    {
     "name": "stdout",
     "output_type": "stream",
     "text": [
      "\n",
      "    PREPROC'D DATASETS\n",
      "    ===================\n",
      " Total: 10\n",
      "\n",
      "  + bhog_nonas.pk : Blurred HOG (only faces with no NA features)\n",
      "  + sobel_nonas.pk : Sobel filter (only faces with no NA features)\n",
      "  + masked_nonas.pk : Masked data (only faces with no NA features)\n",
      "  + pca_trained.pk : trained data transormed with 250-component PCA\n",
      "  + pca_transformed.pk : test data transormed with 250-component PCA\n",
      "  + masked.pk : Masked data (removed background of all faces)\n",
      "  + lapgauss_nonas.pk : Laplace+Gaussian transform (only faces with no NA features)\n",
      "  + test.pk : This is a test\n",
      "  + orig_sobel_nonas.pk : Original + Sobel filter (only faces with no NA features)\n",
      "  + gauss_nonas.pk : Blurred images (only faces with no NA features)\n"
     ]
    }
   ],
   "source": [
    "save4later.list_preprods()"
   ]
  },
  {
   "cell_type": "code",
   "execution_count": null,
   "metadata": {
    "collapsed": true
   },
   "outputs": [],
   "source": []
  }
 ],
 "metadata": {
  "kernelspec": {
   "display_name": "Python 2",
   "language": "python",
   "name": "python2"
  },
  "language_info": {
   "codemirror_mode": {
    "name": "ipython",
    "version": 2
   },
   "file_extension": ".py",
   "mimetype": "text/x-python",
   "name": "python",
   "nbconvert_exporter": "python",
   "pygments_lexer": "ipython2",
   "version": "2.7.11"
  }
 },
 "nbformat": 4,
 "nbformat_minor": 0
}
